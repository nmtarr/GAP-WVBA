{
 "cells": [
  {
   "cell_type": "markdown",
   "metadata": {},
   "source": [
    "#  US Gap Analysis Project - WV Breeding Bird Atlas Data Comparison \n",
    "Nathan Tarr and Jessie Jordan\n",
    "\n",
    "USGS NC Cooperative Fish and Wildlife Research Unit\n",
    "\n",
    "North Carolina State University\n",
    "\n",
    "Raleigh, NC\n",
    "\n",
    "We investigated the agreement between WV Breeding Bird Atlas (2009-2014) and USGS Gap Analysis Project (2001) data on the species occupying West Virginia.  We also investigated the species that were reported to eBird between 2011 and 2015 and will update this analysis with eBird data from 2009-2014 soon.\n",
    "\n",
    "\n",
    "## Key Results\n",
    "\n",
    " - The data suggest that the WVBBA did not detect some species that breed in WV, but only a couple.\n",
    " - Only two species were reported to eBird that were neither detected by the WVBBA nor predicted to breed in WV by GAP.\n",
    " - WVBBA did not detect any species that were not submitted to eBird or predicted to be present in the state by GAP.\n",
    " - The WVBBA detected three species that GAP predicted were absent from the state.\n",
    " - GAP predicted that some species breed in WV for which no records turned up in the WVBBA data or eBird: Lark Sparrow, Bewick's Wren, and King Rail.  Making this comparison without considering eBird data, the list was five species long.\n",
    " - WVBBA detected 28 species in insufficient quantities for modeling.  Among the list were several wetland and nocturnal species as well as rare and sparsely distributed species.\n",
    " \n",
    "## Conclusions\n",
    "\n",
    "- Our comparisons suggest that whereas the WVBBA detected nearly every species that breeds within WV, several species were detected in insufficient quantities to produce abundance and distribution maps.  Survey effort may have been insufficient in wetlands, at high elevations, and at night.\n",
    "- GAP's season designations, \"winter\" and \"summer\", are valuable because they could support efforts to identify vagrants and late-migrants from species lists.  However, they are not explicitly defined with boundary dates (start and end weeks), and therefore, the appropriateness of such judgements (observation records vs. range data) is questionable and uncertain in many cases."
   ]
  },
  {
   "cell_type": "markdown",
   "metadata": {},
   "source": [
    "## Methods\n",
    "This document demonstrates a comparison of three species lists:\n",
    "\n",
    "__Gap Analysis Project__ -- we queried the GAP range data to retrieve a list of species that GAP predicts occur within WV during summer or winter.\n",
    "\n",
    "__WVBBA__ -- we summarized the species detected during WVBBA point count surveys and other efforts to collect data.\n",
    "\n",
    "__eBird__ -- we pulled a list of species, and the frequency of detection from the eBird API via the R \"rebird package\" for May and June of the years from 2011 to 2015.  The table returned had the following columns for WV during the months of May and June and years 2011 to 2015:\n",
    "\n",
    "\"monthQt\": month and week (a four week period)\n",
    "\n",
    "\"comName\": species common name\n",
    "\n",
    "\"frequency\": proportion of times the species was seen in a\n",
    "specified week\n",
    "\n",
    "\"sampleSize\" number of complete eBird checklists submitted for\n",
    "specified given week.\n",
    "\n",
    "We aggregated weekly mean frequencies of detection to a single value by calculating their mean.\n",
    "\n",
    "### WVBBA and GAP\n",
    "We combined a list of species that GAP predicted to be in WV with the WVBBA data by linking records on common names.  We manually resolved unmatched names due to typographical differences, although very few existed."
   ]
  },
  {
   "cell_type": "code",
   "execution_count": 1,
   "metadata": {
    "scrolled": true
   },
   "outputs": [
    {
     "name": "stdout",
     "output_type": "stream",
     "text": [
      "The first 5 records (transposed)\n"
     ]
    },
    {
     "data": {
      "text/html": [
       "<div>\n",
       "<style scoped>\n",
       "    .dataframe tbody tr th:only-of-type {\n",
       "        vertical-align: middle;\n",
       "    }\n",
       "\n",
       "    .dataframe tbody tr th {\n",
       "        vertical-align: top;\n",
       "    }\n",
       "\n",
       "    .dataframe thead th {\n",
       "        text-align: right;\n",
       "    }\n",
       "</style>\n",
       "<table border=\"1\" class=\"dataframe\">\n",
       "  <thead>\n",
       "    <tr style=\"text-align: right;\">\n",
       "      <th></th>\n",
       "      <th>0</th>\n",
       "      <th>1</th>\n",
       "      <th>2</th>\n",
       "      <th>3</th>\n",
       "      <th>4</th>\n",
       "    </tr>\n",
       "  </thead>\n",
       "  <tbody>\n",
       "    <tr>\n",
       "      <th>common_name</th>\n",
       "      <td>American Kestrel</td>\n",
       "      <td>Bewick's Wren</td>\n",
       "      <td>Blue Grosbeak</td>\n",
       "      <td>Common Grackle</td>\n",
       "      <td>Common Yellowthroat</td>\n",
       "    </tr>\n",
       "    <tr>\n",
       "      <th>GAP_sci_name</th>\n",
       "      <td>Falco sparverius</td>\n",
       "      <td>Thryomanes bewickii</td>\n",
       "      <td>Passerina caerulea</td>\n",
       "      <td>Quiscalus quiscula</td>\n",
       "      <td>Geothlypis trichas</td>\n",
       "    </tr>\n",
       "    <tr>\n",
       "      <th>WVBBA_sci_name</th>\n",
       "      <td>Falco sparverius</td>\n",
       "      <td>NaN</td>\n",
       "      <td>Passerina caerulea</td>\n",
       "      <td>Quiscalus quiscula</td>\n",
       "      <td>Geothlypis trichas</td>\n",
       "    </tr>\n",
       "    <tr>\n",
       "      <th>GAP_code</th>\n",
       "      <td>bamkex</td>\n",
       "      <td>bbewrx</td>\n",
       "      <td>bblgrx</td>\n",
       "      <td>bcogrx</td>\n",
       "      <td>bcoyex</td>\n",
       "    </tr>\n",
       "    <tr>\n",
       "      <th>WV_code</th>\n",
       "      <td>AMKE</td>\n",
       "      <td>NaN</td>\n",
       "      <td>BLGR</td>\n",
       "      <td>COGR</td>\n",
       "      <td>COYE</td>\n",
       "    </tr>\n",
       "    <tr>\n",
       "      <th>GAP_modeled</th>\n",
       "      <td>1</td>\n",
       "      <td>1</td>\n",
       "      <td>1</td>\n",
       "      <td>1</td>\n",
       "      <td>1</td>\n",
       "    </tr>\n",
       "    <tr>\n",
       "      <th>detected_WV</th>\n",
       "      <td>1</td>\n",
       "      <td>0</td>\n",
       "      <td>1</td>\n",
       "      <td>1</td>\n",
       "      <td>1</td>\n",
       "    </tr>\n",
       "    <tr>\n",
       "      <th>occupancy_map_WV</th>\n",
       "      <td>1</td>\n",
       "      <td>0</td>\n",
       "      <td>1</td>\n",
       "      <td>1</td>\n",
       "      <td>1</td>\n",
       "    </tr>\n",
       "    <tr>\n",
       "      <th>density_map_WV</th>\n",
       "      <td>0</td>\n",
       "      <td>0</td>\n",
       "      <td>0</td>\n",
       "      <td>1</td>\n",
       "      <td>1</td>\n",
       "    </tr>\n",
       "    <tr>\n",
       "      <th>change_map_WV</th>\n",
       "      <td>1</td>\n",
       "      <td>0</td>\n",
       "      <td>1</td>\n",
       "      <td>1</td>\n",
       "      <td>1</td>\n",
       "    </tr>\n",
       "    <tr>\n",
       "      <th>breeding_evid_map_WV</th>\n",
       "      <td>1</td>\n",
       "      <td>0</td>\n",
       "      <td>1</td>\n",
       "      <td>1</td>\n",
       "      <td>1</td>\n",
       "    </tr>\n",
       "    <tr>\n",
       "      <th>GAP_habitat(ha)</th>\n",
       "      <td>1.91945e+06</td>\n",
       "      <td>1454.67</td>\n",
       "      <td>1.66457e+06</td>\n",
       "      <td>2.09797e+06</td>\n",
       "      <td>4.31626e+06</td>\n",
       "    </tr>\n",
       "    <tr>\n",
       "      <th>WVBBA_individuals</th>\n",
       "      <td>NaN</td>\n",
       "      <td>NaN</td>\n",
       "      <td>NaN</td>\n",
       "      <td>841</td>\n",
       "      <td>734</td>\n",
       "    </tr>\n",
       "    <tr>\n",
       "      <th>WVBBA_points</th>\n",
       "      <td>NaN</td>\n",
       "      <td>NaN</td>\n",
       "      <td>NaN</td>\n",
       "      <td>274</td>\n",
       "      <td>545</td>\n",
       "    </tr>\n",
       "    <tr>\n",
       "      <th>WVBBA_rate</th>\n",
       "      <td>NaN</td>\n",
       "      <td>NaN</td>\n",
       "      <td>NaN</td>\n",
       "      <td>8.6</td>\n",
       "      <td>17.1</td>\n",
       "    </tr>\n",
       "    <tr>\n",
       "      <th>%_of_blocks</th>\n",
       "      <td>0.4</td>\n",
       "      <td>NaN</td>\n",
       "      <td>0.3</td>\n",
       "      <td>7.2</td>\n",
       "      <td>14.3</td>\n",
       "    </tr>\n",
       "    <tr>\n",
       "      <th>notes</th>\n",
       "      <td>NaN</td>\n",
       "      <td>NaN</td>\n",
       "      <td>NaN</td>\n",
       "      <td>NaN</td>\n",
       "      <td>NaN</td>\n",
       "    </tr>\n",
       "  </tbody>\n",
       "</table>\n",
       "</div>"
      ],
      "text/plain": [
       "                                     0                    1                   2                   3                    4\n",
       "common_name           American Kestrel        Bewick's Wren       Blue Grosbeak      Common Grackle  Common Yellowthroat\n",
       "GAP_sci_name          Falco sparverius  Thryomanes bewickii  Passerina caerulea  Quiscalus quiscula   Geothlypis trichas\n",
       "WVBBA_sci_name        Falco sparverius                  NaN  Passerina caerulea  Quiscalus quiscula   Geothlypis trichas\n",
       "GAP_code                        bamkex               bbewrx              bblgrx              bcogrx               bcoyex\n",
       "WV_code                           AMKE                  NaN                BLGR                COGR                 COYE\n",
       "GAP_modeled                          1                    1                   1                   1                    1\n",
       "detected_WV                          1                    0                   1                   1                    1\n",
       "occupancy_map_WV                     1                    0                   1                   1                    1\n",
       "density_map_WV                       0                    0                   0                   1                    1\n",
       "change_map_WV                        1                    0                   1                   1                    1\n",
       "breeding_evid_map_WV                 1                    0                   1                   1                    1\n",
       "GAP_habitat(ha)            1.91945e+06              1454.67         1.66457e+06         2.09797e+06          4.31626e+06\n",
       "WVBBA_individuals                  NaN                  NaN                 NaN                 841                  734\n",
       "WVBBA_points                       NaN                  NaN                 NaN                 274                  545\n",
       "WVBBA_rate                         NaN                  NaN                 NaN                 8.6                 17.1\n",
       "%_of_blocks                        0.4                  NaN                 0.3                 7.2                 14.3\n",
       "notes                              NaN                  NaN                 NaN                 NaN                  NaN"
      ]
     },
     "execution_count": 1,
     "metadata": {},
     "output_type": "execute_result"
    }
   ],
   "source": [
    "import pandas as pd\n",
    "import repo_functions as fun \n",
    "import numpy as np\n",
    "pd.set_option('display.width', 2000)\n",
    "pd.set_option('display.max_colwidth', 400)\n",
    "pd.set_option('display.max_rows', 400)\n",
    "pd.set_option('display.max_columns', 15)\n",
    "\n",
    "# Read in the spp crosswalk\n",
    "crosswalk = pd.read_csv(fun.dataDir + \"SpeciesLists/WV_GAP_Atlas3.csv\", header=0, \n",
    "                        names=[\"common_name\", \"GAP_sci_name\", \"WVBBA_sci_name\", \"GAP_code\", \"WV_code\", 'GAP_modeled',\n",
    "                               'detected_WV', 'occupancy_map_WV', 'density_map_WV', 'change_map_WV', 'breeding_evid_map_WV', \n",
    "                               \"GAP_habitat(ha)\", \"WVBBA_individuals\", \"WVBBA_points\", \"WVBBA_rate\", \"%_of_blocks\", \n",
    "                               \"notes\"],\n",
    "                       dtype={\"GAP_sci_name\":str, \"GAP_code\":str, \"common_name\":str, \"GAP_habitat(ha)\":float, \n",
    "                               \"WVBBA_sci_name\":str, \"%_of_blocks\":float, \"modeled\":int, \"WV_code\":str, \"notes\":str})\n",
    "print(\"The first 5 records (transposed)\")\n",
    "crosswalk.head().T"
   ]
  },
  {
   "cell_type": "markdown",
   "metadata": {},
   "source": [
    "#### Removing \"winter only\" species from GAP list\n",
    "The above table (crosswalk) was developed using a list of species that inhabit WV during summer or winter.  For our comparison, we needed to remove \"winter-only\" species that were included because of GAP winter data."
   ]
  },
  {
   "cell_type": "code",
   "execution_count": 2,
   "metadata": {},
   "outputs": [],
   "source": [
    "# Bring in list of GAP summer species\n",
    "GAP_summer = pd.read_csv(fun.dataDir + \"SpeciesLists/GAP_birds_in_WV_Summer.txt\", delimiter=\"\\t\", header=0)"
   ]
  },
  {
   "cell_type": "code",
   "execution_count": 3,
   "metadata": {},
   "outputs": [],
   "source": [
    "# Drop a species if it is a GAP species not in the GAP summer list and not detected by WVBBA\n",
    "to_exclude = (crosswalk[(crosswalk[\"GAP_sci_name\"].isin(GAP_summer['strScientificName']) == False) &\n",
    "                   (crosswalk[\"%_of_blocks\"].isnull() == True)])\n",
    "crosswalk = crosswalk[crosswalk['common_name'].isin(to_exclude['common_name']) == False]"
   ]
  },
  {
   "cell_type": "code",
   "execution_count": 4,
   "metadata": {},
   "outputs": [],
   "source": [
    "# Update habitat area estimate for species that also winter in WV\n",
    "crosswalk = pd.merge(crosswalk, GAP_summer.filter([\"strCommonName\", \"intHa\"], axis=1),\n",
    "                     left_on='common_name', right_on='strCommonName', how='outer')\n",
    "crosswalk[\"GAP_habitat(ha)\"] = crosswalk[\"intHa\"]\n",
    "crosswalk.drop([\"intHa\"], axis=1, inplace=True)"
   ]
  },
  {
   "cell_type": "markdown",
   "metadata": {},
   "source": [
    "### *Exceptions*\n",
    "Some species entries have been identified as problematic, so we exluded them from this summary.\n",
    "\n",
    "__*Solitary Vireo*__ -- this concept is equivalent to Blue-headed Vireo, which is also in the tables.\n",
    "\n",
    "__*Brewster's Warbler*__ and __*Lawrence's Warbler*__ -- these hybrids were not modeled by GAP.\n",
    "\n",
    "__*Slate-colored Junco*__ -- equivalent to Dark-eyed Junco, which is also in the tables."
   ]
  },
  {
   "cell_type": "code",
   "execution_count": 5,
   "metadata": {},
   "outputs": [],
   "source": [
    "drop = [\"Solitary Vireo\", \"Brewster's Warbler\", \"Lawrence's Warbler\", \"Slate-colored Junco\"]\n",
    "crosswalk = crosswalk[crosswalk[\"common_name\"].isin(drop) == False]"
   ]
  },
  {
   "cell_type": "markdown",
   "metadata": {},
   "source": [
    "### eBird"
   ]
  },
  {
   "cell_type": "code",
   "execution_count": 6,
   "metadata": {},
   "outputs": [],
   "source": [
    "# Ebird pulled via rebird frequency 2011 to 2015 in WV\n",
    "eBird =(pd.read_csv(fun.dataDir + \"SpeciesLists/ebird_WV_2011_2015.csv\")\n",
    "        [lambda x: x['frequency'] > 0]\n",
    "        [lambda x: x['comName'].str.contains(' sp.') == False]\n",
    "        [lambda x: x['monthQt'].str.contains('May|June')]\n",
    "        [lambda x: x['comName'].str.contains('hybrid') == False]\n",
    "        [lambda x: x['comName'].str.contains('/') == False]\n",
    "        .drop(['monthQt'], axis=1)\n",
    "        .groupby('comName').mean()\n",
    "        .drop(['sampleSize'], axis=1)\n",
    "        .rename(columns={'frequency': 'eBird_mean_freq'})\n",
    "        .reset_index()\n",
    "        .sort_values(by=['eBird_mean_freq'], ascending=False))\n",
    "eBird.loc[eBird[eBird['comName'] == 'Black-crowned Night-Heron'].index, 'comName'] = 'Black-crowned Night-heron'\n",
    "eBird.loc[eBird[eBird['comName'] == 'Eastern Whip-poor-will'].index, 'comName'] = 'Whip-poor-will'\n",
    "eBird.loc[eBird[eBird['comName'] == 'Eurasian Collared-Dove'].index, 'comName'] = 'Eurasian Collared-dove'\n",
    "eBird['COMMON_NAME'] = [x.upper() for x in eBird['comName']]"
   ]
  },
  {
   "cell_type": "markdown",
   "metadata": {},
   "source": [
    "We merged the GAP-WVBBA species list crosswalk with the eBird species list to facilitate comparisons of species lists."
   ]
  },
  {
   "cell_type": "code",
   "execution_count": 7,
   "metadata": {},
   "outputs": [],
   "source": [
    "# Merge the eBird, WV, and GAP lists\n",
    "crosswalk[\"COMMON\"] = [x.upper() for x in crosswalk['common_name']]\n",
    "df = (pd.merge(crosswalk, eBird, left_on='COMMON', right_on='COMMON_NAME',how='outer')\n",
    "      .drop([\"COMMON\", \"COMMON_NAME\"], axis=1)\n",
    "      .sort_values(by=['common_name']))\n",
    "df.to_csv(fun.dataDir + \"/SpeciesLists/merged_spp_lists.csv\")"
   ]
  },
  {
   "cell_type": "markdown",
   "metadata": {},
   "source": [
    "## Results\n",
    "\n",
    "### Non-WVBBA\n",
    "Species on the eBird and GAP lists, but not detected by WVBBA."
   ]
  },
  {
   "cell_type": "code",
   "execution_count": 8,
   "metadata": {},
   "outputs": [
    {
     "data": {
      "text/html": [
       "<div>\n",
       "<style scoped>\n",
       "    .dataframe tbody tr th:only-of-type {\n",
       "        vertical-align: middle;\n",
       "    }\n",
       "\n",
       "    .dataframe tbody tr th {\n",
       "        vertical-align: top;\n",
       "    }\n",
       "\n",
       "    .dataframe thead th {\n",
       "        text-align: right;\n",
       "    }\n",
       "</style>\n",
       "<table border=\"1\" class=\"dataframe\">\n",
       "  <thead>\n",
       "    <tr style=\"text-align: right;\">\n",
       "      <th></th>\n",
       "      <th>GAP_sci_name</th>\n",
       "      <th>GAP_modeled</th>\n",
       "      <th>detected_WV</th>\n",
       "      <th>occupancy_map_WV</th>\n",
       "      <th>density_map_WV</th>\n",
       "      <th>change_map_WV</th>\n",
       "      <th>breeding_evid_map_WV</th>\n",
       "      <th>GAP_habitat(ha)</th>\n",
       "      <th>eBird_mean_freq</th>\n",
       "    </tr>\n",
       "    <tr>\n",
       "      <th>common_name</th>\n",
       "      <th></th>\n",
       "      <th></th>\n",
       "      <th></th>\n",
       "      <th></th>\n",
       "      <th></th>\n",
       "      <th></th>\n",
       "      <th></th>\n",
       "      <th></th>\n",
       "      <th></th>\n",
       "    </tr>\n",
       "  </thead>\n",
       "  <tbody>\n",
       "    <tr>\n",
       "      <th>Cattle Egret</th>\n",
       "      <td>Bubulcus ibis</td>\n",
       "      <td>1.0</td>\n",
       "      <td>0.0</td>\n",
       "      <td>0.0</td>\n",
       "      <td>0.0</td>\n",
       "      <td>0.0</td>\n",
       "      <td>0.0</td>\n",
       "      <td>1079016.39</td>\n",
       "      <td>0.001170</td>\n",
       "    </tr>\n",
       "    <tr>\n",
       "      <th>Marsh Wren</th>\n",
       "      <td>Cistothorus palustris</td>\n",
       "      <td>1.0</td>\n",
       "      <td>0.0</td>\n",
       "      <td>0.0</td>\n",
       "      <td>0.0</td>\n",
       "      <td>0.0</td>\n",
       "      <td>0.0</td>\n",
       "      <td>26677.62</td>\n",
       "      <td>0.000655</td>\n",
       "    </tr>\n",
       "  </tbody>\n",
       "</table>\n",
       "</div>"
      ],
      "text/plain": [
       "                       GAP_sci_name  GAP_modeled  detected_WV  occupancy_map_WV  density_map_WV  change_map_WV  breeding_evid_map_WV  GAP_habitat(ha)  eBird_mean_freq\n",
       "common_name                                                                                                                                                           \n",
       "Cattle Egret          Bubulcus ibis          1.0          0.0               0.0             0.0            0.0                   0.0       1079016.39         0.001170\n",
       "Marsh Wren    Cistothorus palustris          1.0          0.0               0.0             0.0            0.0                   0.0         26677.62         0.000655"
      ]
     },
     "execution_count": 8,
     "metadata": {},
     "output_type": "execute_result"
    }
   ],
   "source": [
    "a = (df[(df['detected_WV'] == 0) & \n",
    "        (df['GAP_modeled'] == 1) &\n",
    "        (df['comName'].isnull() == False)]\n",
    "     .drop([\"WVBBA_sci_name\", \"WVBBA_individuals\", \"WVBBA_points\", \"WVBBA_rate\", \"comName\", \"%_of_blocks\",\n",
    "           \"GAP_code\", \"WV_code\", \"notes\", \"strCommonName\"], axis=1)\n",
    "     .sort_values(\"GAP_habitat(ha)\", ascending=False)\n",
    "     .set_index([\"common_name\"]))\n",
    "a"
   ]
  },
  {
   "cell_type": "markdown",
   "metadata": {},
   "source": [
    "### eBird only \n",
    "Species on the eBird list, but not GAP or WVBBA lists."
   ]
  },
  {
   "cell_type": "code",
   "execution_count": 9,
   "metadata": {},
   "outputs": [
    {
     "name": "stdout",
     "output_type": "stream",
     "text": [
      "2\n"
     ]
    },
    {
     "data": {
      "text/html": [
       "<div>\n",
       "<style scoped>\n",
       "    .dataframe tbody tr th:only-of-type {\n",
       "        vertical-align: middle;\n",
       "    }\n",
       "\n",
       "    .dataframe tbody tr th {\n",
       "        vertical-align: top;\n",
       "    }\n",
       "\n",
       "    .dataframe thead th {\n",
       "        text-align: right;\n",
       "    }\n",
       "</style>\n",
       "<table border=\"1\" class=\"dataframe\">\n",
       "  <thead>\n",
       "    <tr style=\"text-align: right;\">\n",
       "      <th></th>\n",
       "      <th>eBird_mean_freq</th>\n",
       "    </tr>\n",
       "    <tr>\n",
       "      <th>comName</th>\n",
       "      <th></th>\n",
       "    </tr>\n",
       "  </thead>\n",
       "  <tbody>\n",
       "    <tr>\n",
       "      <th>Blackpoll Warbler</th>\n",
       "      <td>0.046135</td>\n",
       "    </tr>\n",
       "    <tr>\n",
       "      <th>Bay-breasted Warbler</th>\n",
       "      <td>0.013348</td>\n",
       "    </tr>\n",
       "  </tbody>\n",
       "</table>\n",
       "</div>"
      ],
      "text/plain": [
       "                      eBird_mean_freq\n",
       "comName                              \n",
       "Blackpoll Warbler            0.046135\n",
       "Bay-breasted Warbler         0.013348"
      ]
     },
     "execution_count": 9,
     "metadata": {},
     "output_type": "execute_result"
    }
   ],
   "source": [
    "b = (df[(df['detected_WV'] == 0) & \n",
    "     (df['GAP_modeled'] == 0) &\n",
    "     (df['comName'].isnull() == False)]\n",
    "     .sort_values(\"eBird_mean_freq\", ascending=False)\n",
    "     .set_index([\"comName\"]))\n",
    "print(len(b))\n",
    "b[[\"eBird_mean_freq\"]]"
   ]
  },
  {
   "cell_type": "markdown",
   "metadata": {},
   "source": [
    "### WVBBA only\n",
    "Species detected by WVBBA, but not submitted to eBird or predicted present by GAP."
   ]
  },
  {
   "cell_type": "code",
   "execution_count": 10,
   "metadata": {},
   "outputs": [
    {
     "name": "stdout",
     "output_type": "stream",
     "text": [
      "None\n"
     ]
    }
   ],
   "source": [
    "c = (df[(df['detected_WV'] == 1) & \n",
    "     (df['GAP_modeled'] == 0) &\n",
    "     (df['comName'].isnull() == True)])\n",
    "if len(c) > 0:\n",
    "    print(c['common_name'])\n",
    "else:\n",
    "    print(\"None\")"
   ]
  },
  {
   "cell_type": "markdown",
   "metadata": {},
   "source": [
    "### WVBBA minus GAP\n",
    "Species detected by WVBBA, but not predicted present by GAP."
   ]
  },
  {
   "cell_type": "code",
   "execution_count": 11,
   "metadata": {},
   "outputs": [
    {
     "name": "stdout",
     "output_type": "stream",
     "text": [
      "168     Common Merganser\n",
      "169               Osprey\n",
      "170    Spotted Sandpiper\n",
      "Name: common_name, dtype: object\n"
     ]
    }
   ],
   "source": [
    "c = (df[(df['detected_WV'] == 1) & \n",
    "     (df['GAP_modeled'] == 0)])\n",
    "if len(c) > 0:\n",
    "    print(c['common_name'])\n",
    "else:\n",
    "    print(\"No\")"
   ]
  },
  {
   "cell_type": "markdown",
   "metadata": {},
   "source": [
    "### GAP only\n",
    "Species predicted present by GAP, but not detected by WVBBA or submitted to eBird."
   ]
  },
  {
   "cell_type": "code",
   "execution_count": 12,
   "metadata": {},
   "outputs": [
    {
     "name": "stdout",
     "output_type": "stream",
     "text": [
      "              GAP_code          GAP_sci_name  GAP_habitat(ha)\n",
      "common_name                                                  \n",
      "Lark Sparrow    blaspx  Chondestes grammacus         34328.16\n",
      "Bewick's Wren   bbewrx   Thryomanes bewickii          1454.67\n",
      "King Rail       bkirax        Rallus elegans          1255.32\n"
     ]
    }
   ],
   "source": [
    "d = (df[(df['detected_WV'] == 0) & \n",
    "     (df['GAP_modeled'] == 1) &\n",
    "     (df['comName'].isnull() == True)]\n",
    "    .set_index([\"common_name\"])\n",
    "    .sort_values([\"GAP_habitat(ha)\"], ascending=False))\n",
    "if len(d) > 0:\n",
    "    print(d[[\"GAP_code\", \"GAP_sci_name\", \"GAP_habitat(ha)\"]])\n",
    "else:\n",
    "    print(\"No\")"
   ]
  },
  {
   "cell_type": "markdown",
   "metadata": {},
   "source": [
    "### GAP minus WVBBA\n",
    "Species predicted present by GAP, but not detected by WVBBA.  eBird is ignored here."
   ]
  },
  {
   "cell_type": "code",
   "execution_count": 13,
   "metadata": {},
   "outputs": [
    {
     "name": "stdout",
     "output_type": "stream",
     "text": [
      "              GAP_code           GAP_sci_name  GAP_habitat(ha)\n",
      "common_name                                                   \n",
      "Bewick's Wren   bbewrx    Thryomanes bewickii          1454.67\n",
      "Cattle Egret    bcaegx          Bubulcus ibis       1079016.39\n",
      "King Rail       bkirax         Rallus elegans          1255.32\n",
      "Lark Sparrow    blaspx   Chondestes grammacus         34328.16\n",
      "Marsh Wren      bmawrx  Cistothorus palustris         26677.62\n"
     ]
    }
   ],
   "source": [
    "e = (df[(df['detected_WV'] == 0) & \n",
    "     (df['GAP_modeled'] == 1)]\n",
    "    .set_index([\"common_name\"])\n",
    "    .sort_values([\"common_name\"], ascending=True))\n",
    "if len(e) > 0:\n",
    "    print(e[[\"GAP_code\", \"GAP_sci_name\", \"GAP_habitat(ha)\"]])\n",
    "else:\n",
    "    print(\"No\")"
   ]
  },
  {
   "cell_type": "markdown",
   "metadata": {},
   "source": [
    "### GAP species not modeled by WVBBA\n",
    "GAP species detected by WVBBA, but not in enough numbers for occupancy modeling."
   ]
  },
  {
   "cell_type": "code",
   "execution_count": 14,
   "metadata": {},
   "outputs": [
    {
     "name": "stdout",
     "output_type": "stream",
     "text": [
      "                          GAP_code              GAP_sci_name  GAP_habitat(ha)\n",
      "common_name                                                                  \n",
      "American Bittern            bambix     Botaurus lentiginosus         92506.14\n",
      "American Black Duck         babdux             Anas rubripes         39890.07\n",
      "Barn Owl                    bbanox                 Tyto alba        141250.86\n",
      "Black-crowned Night-heron   bbcnhx     Nycticorax nycticorax          7736.94\n",
      "Blue-winged Teal            bbwtex              Anas discors         33558.84\n",
      "Chuck-will's-widow          bcwwix  Caprimulgus carolinensis        188641.35\n",
      "Dickcissel                  bdickx           Spiza americana         74512.89\n",
      "Double-crested Cormorant    bdccox     Phalacrocorax auritus              NaN\n",
      "Eurasian Collared-dove      beucdx     Streptopelia decaocto          8702.73\n",
      "Henslow's Sparrow           bhespx      Ammodramus henslowii          7660.08\n",
      "Hooded Merganser            bhomex     Lophodytes cucullatus         38241.27\n",
      "Horned Lark                 bholax      Eremophila alpestris        863204.85\n",
      "Least Bittern               blebix         Ixobrychus exilis         64859.49\n",
      "Long-eared Owl              bleowx                 Asio otus        139664.34\n",
      "Nashville Warbler           bnawax     Vermivora ruficapilla        227105.37\n",
      "Northern Bobwhite           bnobox       Colinus virginianus        832633.92\n",
      "Northern Harrier            bnohax            Circus cyaneus        445702.59\n",
      "Northern Saw-whet Owl       bnswox         Aegolius acadicus        439404.03\n",
      "Olive-sided Flycatcher      bosflx          Contopus cooperi        641097.45\n",
      "Peregrine Falcon            bpefax          Falco peregrinus         46388.61\n",
      "Pied-billed Grebe           bpbgrx       Podilymbus podiceps         42171.03\n",
      "Prothonotary Warbler        bprowx       Protonotaria citrea          2511.09\n",
      "Red Crossbill               brecrx         Loxia curvirostra         93662.37\n",
      "Red-breasted Nuthatch       brbnux          Sitta canadensis        734835.78\n",
      "Ring-necked Pheasant        brnepx       Phasianus colchicus        164598.12\n",
      "Sora                        bsorax          Porzana carolina         16664.85\n",
      "Upland Sandpiper            bupsax      Bartramia longicauda         88442.28\n",
      "Virginia Rail               bvirax           Rallus limicola         10972.71\n",
      "28 total\n"
     ]
    }
   ],
   "source": [
    "e = (df[(df['detected_WV'] == 1) & \n",
    "     (df['GAP_modeled'] == 1) &\n",
    "       (df['occupancy_map_WV'] == 0)]\n",
    "    .set_index([\"common_name\"])\n",
    "    .sort_values([\"common_name\"], ascending=True))\n",
    "if len(e) > 0:\n",
    "    print(e[[\"GAP_code\", \"GAP_sci_name\", \"GAP_habitat(ha)\"]])\n",
    "    print(str(len(e)) + \" total\")\n",
    "else:\n",
    "    print(\"No\")"
   ]
  }
 ],
 "metadata": {
  "kernelspec": {
   "display_name": "Python 3",
   "language": "python",
   "name": "python3"
  },
  "language_info": {
   "codemirror_mode": {
    "name": "ipython",
    "version": 3
   },
   "file_extension": ".py",
   "mimetype": "text/x-python",
   "name": "python",
   "nbconvert_exporter": "python",
   "pygments_lexer": "ipython3",
   "version": "3.6.10"
  }
 },
 "nbformat": 4,
 "nbformat_minor": 4
}
