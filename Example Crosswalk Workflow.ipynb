{
 "cells": [
  {
   "cell_type": "markdown",
   "metadata": {},
   "source": [
    "This is an example of the process that I've been thinking we could use to do the crosswalk taking advantage of the site-level survey data.  It is just the bare bones and may be a little more complicated.  It assumes that all tables are neat and share column names, which they do not.  This example doesn't account for the confidence or compute a support metric.  That would come later.\n",
    "\n",
    "First, build some example data frames for demonstration"
   ]
  },
  {
   "cell_type": "code",
   "execution_count": 7,
   "metadata": {},
   "outputs": [
    {
     "name": "stdout",
     "output_type": "stream",
     "text": [
      "  site species  WVtype\n",
      "0    a     sp1  forest\n",
      "1    b     sp2   water\n",
      "\n",
      "\n",
      "  site  region1  region2\n",
      "0    a        1        0\n",
      "1    b        0        1\n",
      "\n",
      "\n",
      "   WVtype  GAPtype\n",
      "0  forest  forest1\n",
      "1  forest  forest2\n",
      "2  forest  forest3\n",
      "3   water   water1\n",
      "4   water   water2\n",
      "5   water   water3\n",
      "\n",
      "\n",
      "   GAPtype  region1  region2\n",
      "0  forest1        1        1\n",
      "1  forest2        1        0\n",
      "2  forest3        0        1\n",
      "3   water1        1        0\n",
      "4   water2        1        1\n",
      "5   water3        0        1\n",
      "\n",
      "\n"
     ]
    }
   ],
   "source": [
    "import pandas as pd\n",
    "\n",
    "# make example data frames - similar to what we already have\n",
    "survey_df = pd.DataFrame([[\"a\", \"sp1\", \"forest\"],\n",
    "                         [\"b\", \"sp2\", \"water\"]],\n",
    "                         columns=[\"site\", \"species\", \"WVtype\"])\n",
    "\n",
    "site_df = pd.DataFrame([[\"a\", 1, 0], [\"b\", 0, 1]], \n",
    "                       columns=[\"site\", \"region1\", \"region2\"])\n",
    "\n",
    "cross_df = pd.DataFrame(columns=[\"WVtype\", \"GAPtype\"], \n",
    "                        data=[[\"forest\", \"forest1\"], [\"forest\", \"forest2\"],\n",
    "                              [\"forest\", \"forest3\"], [\"water\", \"water1\"],\n",
    "                              [\"water\", \"water2\"], [\"water\", \"water3\"]])\n",
    "\n",
    "GAPlc_df = pd.DataFrame(columns=[\"GAPtype\", \"region1\", \"region2\"], \n",
    "                        data=[[\"forest1\", 1, 1], [\"forest2\", 1, 0],\n",
    "                              [\"forest3\", 0, 1], [\"water1\", 1, 0],\n",
    "                              [\"water2\", 1, 1], [\"water3\", 0, 1]])\n",
    "\n",
    "print(survey_df); print(\"\\n\")\n",
    "print(site_df); print(\"\\n\")\n",
    "print(cross_df); print(\"\\n\")\n",
    "print(GAPlc_df); print(\"\\n\")"
   ]
  },
  {
   "cell_type": "markdown",
   "metadata": {},
   "source": [
    "Add columns that represent crosswalk at wv level"
   ]
  },
  {
   "cell_type": "code",
   "execution_count": 8,
   "metadata": {},
   "outputs": [
    {
     "name": "stdout",
     "output_type": "stream",
     "text": [
      "   GAPtype  region1  region2  WVtype\n",
      "0  forest1        1        1  forest\n",
      "1  forest2        1        0  forest\n",
      "2  forest3        0        1  forest\n",
      "3   water1        1        0   water\n",
      "4   water2        1        1   water\n",
      "5   water3        0        1   water\n"
     ]
    }
   ],
   "source": [
    "df1 = pd.merge(GAPlc_df, cross_df, on=[\"GAPtype\"], how=\"inner\")\n",
    "print(df1)"
   ]
  },
  {
   "cell_type": "markdown",
   "metadata": {},
   "source": [
    "Assess a species.  I think it may be necessary to loop on regions (ecoregions or modeling regions) since they are in separate columns.  This example doesn't use a loop though, just the process that would be repeated in the looop."
   ]
  },
  {
   "cell_type": "code",
   "execution_count": 9,
   "metadata": {},
   "outputs": [
    {
     "name": "stdout",
     "output_type": "stream",
     "text": [
      "  site species  WVtype  region1  region2\n",
      "0    a     sp1  forest        1        0\n"
     ]
    }
   ],
   "source": [
    "sp = \"sp1\"\n",
    "region = \"region1\"\n",
    "\n",
    "# empty set for collection\n",
    "linked_types = set([])\n",
    "\n",
    "# pull out only the species data from the survey - this could be done earlier too\n",
    "survey_df2 = survey_df[survey_df[\"species\"] == sp]\n",
    "\n",
    "# pull together site and survey data -- adds region columns\n",
    "df2 = pd.merge(survey_df2, site_df, on=[\"site\"], how=\"left\") \n",
    "df2 = df2[df2[region] == 1]\n",
    "print(df2)"
   ]
  },
  {
   "cell_type": "markdown",
   "metadata": {},
   "source": [
    "Use the region column to pull out the slimmed down crosswalked list.  Note that if we hadn't used site location information, then there would have been 3 cover types resulting from the crosswalk."
   ]
  },
  {
   "cell_type": "code",
   "execution_count": 10,
   "metadata": {},
   "outputs": [
    {
     "name": "stdout",
     "output_type": "stream",
     "text": [
      "{'forest1', 'forest2'}\n"
     ]
    }
   ],
   "source": [
    "df3 = pd.merge(df2, df1, on=[\"WVtype\", region], how=\"left\")\n",
    "linked_types = linked_types | set(df3[\"GAPtype\"].tolist())\n",
    "\n",
    "# the final list\n",
    "print(linked_types)"
   ]
  }
 ],
 "metadata": {
  "kernelspec": {
   "display_name": "Python 3",
   "language": "python",
   "name": "python3"
  },
  "language_info": {
   "codemirror_mode": {
    "name": "ipython",
    "version": 3
   },
   "file_extension": ".py",
   "mimetype": "text/x-python",
   "name": "python",
   "nbconvert_exporter": "python",
   "pygments_lexer": "ipython3",
   "version": "3.6.10"
  }
 },
 "nbformat": 4,
 "nbformat_minor": 4
}
