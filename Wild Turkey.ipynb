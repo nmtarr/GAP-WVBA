{
 "cells": [
  {
   "cell_type": "markdown",
   "metadata": {},
   "source": [
    "# USGAP-WVBBA2 Habitat Data Comparison \n",
    "\n",
    "## *Wild Turkey*\n",
    "Nathan Tarr and Jessie Jordan"
   ]
  },
  {
   "cell_type": "code",
   "execution_count": 9,
   "metadata": {},
   "outputs": [],
   "source": [
    "species = 'Wild Turkey'"
   ]
  },
  {
   "cell_type": "code",
   "execution_count": 10,
   "metadata": {},
   "outputs": [],
   "source": [
    "import pandas as pd\n",
    "import repo_functions as fun\n",
    "pd.set_option('display.width', 2000)\n",
    "pd.set_option('display.max_colwidth', 400)\n",
    "pd.set_option('display.max_rows', 400)\n",
    "pd.set_option('display.max_columns', 15)\n",
    "\n",
    "# Load land cover crosswalk - slow loading for some reason\n",
    "cross = pd.read_csv(fun.dataDir + \"LandCover/land_cover_crosswalk.csv\", header=0, dtype={'GAP_code': str}) "
   ]
  },
  {
   "cell_type": "code",
   "execution_count": 11,
   "metadata": {},
   "outputs": [
    {
     "name": "stdout",
     "output_type": "stream",
     "text": [
      "\n",
      "System associations in the GAP model\n",
      "                                                                     GAP_name\n",
      "GAP_code                                                                     \n",
      "1201                                                    Developed, Open Space\n",
      "1202                                                 Developed, Low-intensity\n",
      "1402                                                      Cultivated Cropland\n",
      "1403                                                              Pasture/Hay\n",
      "4104                  Northeastern Interior Dry Oak Forest-Hardwood Modifier*\n",
      "4106                    Northeastern Interior Dry Oak Forest - Mixed Modifier\n",
      "4109                      Southern and Central Appalachian Oak Forest - Xeric\n",
      "4114                               Northeastern Interior Dry-Mesic Oak Forest\n",
      "4119                            Southern Appalachian Northern Hardwood Forest\n",
      "4125                              Southern and Central Appalachian Oak Forest\n",
      "4126              Allegheny-Cumberland Dry Oak Forest and Woodland - Hardwood\n",
      "4127                      Central and Southern Appalachian Montane Oak Forest\n",
      "4202                                           Southern Piedmont Mesic Forest\n",
      "4302              Southern Piedmont Dry Oak-(Pine) Forest - Hardwood Modifier\n",
      "4304      Northeastern Interior Dry Oak Forest - Virginia/Pitch Pine Modifier\n",
      "4307         Allegheny-Cumberland Dry Oak Forest and Woodland - Pine Modifier\n",
      "4310                Southern Piedmont Dry Oak-(Pine) Forest - Mixed Modifier*\n",
      "4314                                                Appalachian Shale Barrens\n",
      "4329                                 Southern Piedmont Dry Oak-(Pine) Forest*\n",
      "4330                                  Central Appalachian Oak and Pine Forest\n",
      "4331                                      Appalachian Hemlock-Hardwood Forest\n",
      "4334                          Southern Ridge and Valley Dry Calcareous Forest\n",
      "4335                              Central Appalachian Pine-Oak Rocky Woodland\n",
      "4401                             Southern and Central Appalachian Cove Forest\n",
      "4402                                 South-Central Interior Mesophytic Forest\n",
      "5511                          Central Appalachian Alkaline Glade and Woodland\n",
      "5512                  Central Interior Highlands Calcareous Glade and Barrens\n",
      "7601                               Southern Appalachian Grass and Shrub Bald*\n",
      "8103                        Disturbed/Successional - Grass/Forb Regeneration*\n",
      "8108                               Harvested Forest - Grass/Forb Regeneration\n",
      "8203                                                  Managed Tree Plantation\n",
      "8404                          Introduced Upland Vegetation - Annual Grassland\n",
      "9212                        North-Central Interior and Appalachian Rich Swamp\n",
      "9803                           Central Appalachian Riparian - Forest Modifier\n",
      "9805                South-Central Interior Large Floodplain - Forest Modifier\n",
      "9850                         South-Central Interior Small Stream and Riparian\n",
      "9914                                     North-Central Interior Wet Flatwoods\n",
      "\n",
      "WVBBA detections by WVBBA habitat type\n",
      "                                           wv_name_fine detections\n",
      "wv_code_fine                                                      \n",
      "1             Mixed mesophytic and cove hardwood forest         13\n",
      "10                        Riparian or floodplain forest          2\n",
      "16a                                          Old fields          3\n",
      "16b                                              Logged          2\n",
      "16c                                      Abandoned mine          3\n",
      "17                                             Farmland          2\n",
      "17a                                             Pasture          3\n",
      "17b                                                 Hay          3\n",
      "18a                                         Residential          2\n",
      "2                                      Moist oak forest          3\n",
      "2a                                            Mesic oak          7\n",
      "2b                                          Oak-hickory         14\n",
      "3                                        Dry oak forest          1\n",
      "3c                                       Oak-white pine          1\n",
      "4                             Northern hardwoods forest          1\n",
      "7b                                             Pine-oak          1\n",
      "8                         Successional deciduous forest          6\n",
      "2 of 37 GAP ecological system associations were validated.\n"
     ]
    }
   ],
   "source": [
    "# Perform crosswalk of detections from WV -> USGAP\n",
    "master, GAP_linked, unmatched, gap_types, wv_types = fun.cross_to_GAP(species, cross, print_tables=True)"
   ]
  },
  {
   "cell_type": "markdown",
   "metadata": {},
   "source": [
    "## Validated"
   ]
  },
  {
   "cell_type": "code",
   "execution_count": 12,
   "metadata": {},
   "outputs": [
    {
     "name": "stdout",
     "output_type": "stream",
     "text": [
      "Validated associations\n",
      "   GAP_code                        GAP_name  detections\n",
      "4      1403                     Pasture/Hay         3.0\n",
      "14     4202  Southern Piedmont Mesic Forest         7.0\n"
     ]
    }
   ],
   "source": [
    "# Show validated associations ------------------------------------------------\n",
    "print(\"Validated associations\")\n",
    "df_valid = master[master['evaluation'] == 'valid']\n",
    "print(df_valid[['GAP_code', 'GAP_name', 'detections']])"
   ]
  },
  {
   "cell_type": "markdown",
   "metadata": {},
   "source": [
    "## Additions"
   ]
  },
  {
   "cell_type": "code",
   "execution_count": 13,
   "metadata": {},
   "outputs": [
    {
     "name": "stdout",
     "output_type": "stream",
     "text": [
      "New GAP ecological system associations that are supported by WVBBA:\n",
      "   GAP_code                      GAP_name  detections\n",
      "5      3105  Undifferentiated Barren Land         3.0\n",
      "37     8504                Ruderal forest         6.0\n"
     ]
    }
   ],
   "source": [
    "# Show supported additions ---------------------------------------------------\n",
    "print(\"New GAP ecological system associations that are supported by WVBBA:\")\n",
    "df_add = master[master['evaluation'] == 'add_association']\n",
    "print(df_add[['GAP_code', 'GAP_name', 'detections']])"
   ]
  },
  {
   "cell_type": "markdown",
   "metadata": {},
   "source": [
    "## Invalid codes"
   ]
  },
  {
   "cell_type": "code",
   "execution_count": 14,
   "metadata": {},
   "outputs": [
    {
     "name": "stdout",
     "output_type": "stream",
     "text": [
      "Invalid habitat codes entered by WVBBA observers:\n",
      "{}\n"
     ]
    }
   ],
   "source": [
    "# Show invalid WV codes entered ----------------------------------------------\n",
    "print(\"Invalid habitat codes entered by WVBBA observers:\")\n",
    "print(unmatched)"
   ]
  },
  {
   "cell_type": "markdown",
   "metadata": {},
   "source": [
    "## Summary"
   ]
  },
  {
   "cell_type": "code",
   "execution_count": 15,
   "metadata": {
    "scrolled": false
   },
   "outputs": [
    {
     "name": "stdout",
     "output_type": "stream",
     "text": [
      "                      detections\n",
      "Unusable                    48.0\n",
      "Supported validation        10.0\n",
      "Supported addition           9.0\n",
      "Total detections            67.0\n"
     ]
    },
    {
     "data": {
      "text/plain": [
       "Text(0, 0.5, '')"
      ]
     },
     "execution_count": 15,
     "metadata": {},
     "output_type": "execute_result"
    },
    {
     "data": {
      "image/png": "[encoded data removed]",
      "text/plain": [
       "<Figure size 432x288 with 1 Axes>"
      ]
     },
     "metadata": {},
     "output_type": "display_data"
    }
   ],
   "source": [
    "# Report and plot results for usable detections ------------------------------\n",
    "usable_df = pd.DataFrame(index=[\"Unusable\", \"Supported validation\", \"Supported addition\", \"Total detections\"], \n",
    "                         columns=[\"detections\"])\n",
    "usable_df.loc['Supported validation', 'detections'] = int(df_valid[['detections']].sum())\n",
    "usable_df.loc['Supported addition', 'detections'] = int(df_add[['detections']].sum())\n",
    "usable_df.loc['Total detections', 'detections'] = wv_types['detections'].sum()\n",
    "usable_df.loc['Unusable', 'detections'] = int(wv_types['detections'].sum() - df_valid[['detections']].sum() - df_add[['detections']].sum())\n",
    "usable_df = usable_df.fillna(0)\n",
    "print(usable_df)\n",
    "plt1 = usable_df.drop(['Total detections']).plot(y='detections', kind='pie',\n",
    "                                                 legend=False, \n",
    "                                                 title = species + \" Detections\",\n",
    "                                                 colors=['gray', 'g', 'y'])\n",
    "plt1.set_ylabel(\"\")"
   ]
  },
  {
   "cell_type": "code",
   "execution_count": 16,
   "metadata": {
    "scrolled": true
   },
   "outputs": [
    {
     "name": "stdout",
     "output_type": "stream",
     "text": [
      "             GAP_types\n",
      "Unvalidated         35\n",
      "Validated            2\n",
      "Additions            2\n"
     ]
    },
    {
     "data": {
      "image/png": "[encoded data removed]",
      "text/plain": [
       "<Figure size 432x288 with 1 Axes>"
      ]
     },
     "metadata": {
      "needs_background": "light"
     },
     "output_type": "display_data"
    }
   ],
   "source": [
    "# Report and plot results for proportion of GAP systems validated ------------------------------\n",
    "eval_df = pd.DataFrame(index=[\"Unvalidated\", \"Validated\", \"Additions\"], columns=[\"GAP_types\"])\n",
    "eval_df.loc['Unvalidated', \"GAP_types\"] = len(gap_types) - len(df_valid)\n",
    "eval_df.loc['Validated', \"GAP_types\"] = len(df_valid)\n",
    "eval_df.loc['Additions', \"GAP_types\"] = len(df_add)\n",
    "eval_df = eval_df.fillna(0)\n",
    "print(eval_df)\n",
    "plt2 = eval_df.plot(y='GAP_types', kind='barh', legend=False, title = species + \" GAP associations\")"
   ]
  },
  {
   "cell_type": "code",
   "execution_count": null,
   "metadata": {},
   "outputs": [],
   "source": []
  },
  {
   "cell_type": "code",
   "execution_count": null,
   "metadata": {},
   "outputs": [],
   "source": []
  }
 ],
 "metadata": {
  "kernelspec": {
   "display_name": "Python 3",
   "language": "python",
   "name": "python3"
  },
  "language_info": {
   "codemirror_mode": {
    "name": "ipython",
    "version": 3
   },
   "file_extension": ".py",
   "mimetype": "text/x-python",
   "name": "python",
   "nbconvert_exporter": "python",
   "pygments_lexer": "ipython3",
   "version": "3.6.10"
  }
 },
 "nbformat": 4,
 "nbformat_minor": 4
}
