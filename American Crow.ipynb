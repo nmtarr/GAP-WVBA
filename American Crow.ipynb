{
 "cells": [
  {
   "cell_type": "markdown",
   "metadata": {},
   "source": [
    "# USGAP-WVBBA2 Habitat Data Comparison \n",
    "\n",
    "## *American Crow*\n",
    "Nathan Tarr and Jessie Jordan"
   ]
  },
  {
   "cell_type": "code",
   "execution_count": 1,
   "metadata": {},
   "outputs": [],
   "source": [
    "species = 'American Crow'"
   ]
  },
  {
   "cell_type": "code",
   "execution_count": 2,
   "metadata": {},
   "outputs": [],
   "source": [
    "import pandas as pd\n",
    "import repo_functions as fun\n",
    "pd.set_option('display.width', 2000)\n",
    "pd.set_option('display.max_colwidth', 400)\n",
    "pd.set_option('display.max_rows', 400)\n",
    "pd.set_option('display.max_columns', 15)\n",
    "\n",
    "# Load land cover crosswalk - slow loading for some reason\n",
    "cross = pd.read_csv(fun.dataDir + \"LandCover/land_cover_crosswalk.csv\", header=0, dtype={'GAP_code': str}) "
   ]
  },
  {
   "cell_type": "code",
   "execution_count": 3,
   "metadata": {},
   "outputs": [
    {
     "name": "stdout",
     "output_type": "stream",
     "text": [
      "\n",
      "System associations in the GAP model\n",
      "                                                                     GAP_name\n",
      "GAP_code                                                                     \n",
      "1201                                                    Developed, Open Space\n",
      "1202                                                 Developed, Low-intensity\n",
      "1203                                              Developed, Medium-intensity\n",
      "1204                                                Developed, High-intensity\n",
      "1301                               Quarries, Mines, Gravel Pits and Oil Wells\n",
      "1402                                                      Cultivated Cropland\n",
      "1403                                                              Pasture/Hay\n",
      "3208                         North-Central Appalachian Acidic Cliff and Talus\n",
      "4104                  Northeastern Interior Dry Oak Forest-Hardwood Modifier*\n",
      "4106                    Northeastern Interior Dry Oak Forest - Mixed Modifier\n",
      "4109                      Southern and Central Appalachian Oak Forest - Xeric\n",
      "4114                               Northeastern Interior Dry-Mesic Oak Forest\n",
      "4125                              Southern and Central Appalachian Oak Forest\n",
      "4126              Allegheny-Cumberland Dry Oak Forest and Woodland - Hardwood\n",
      "4127                      Central and Southern Appalachian Montane Oak Forest\n",
      "4202                                           Southern Piedmont Mesic Forest\n",
      "4302              Southern Piedmont Dry Oak-(Pine) Forest - Hardwood Modifier\n",
      "4304      Northeastern Interior Dry Oak Forest - Virginia/Pitch Pine Modifier\n",
      "4307         Allegheny-Cumberland Dry Oak Forest and Woodland - Pine Modifier\n",
      "4308          Southern Ridge and Valley Dry Calcareous Forest - Pine modifier\n",
      "4310                Southern Piedmont Dry Oak-(Pine) Forest - Mixed Modifier*\n",
      "4329                                 Southern Piedmont Dry Oak-(Pine) Forest*\n",
      "4330                                  Central Appalachian Oak and Pine Forest\n",
      "4331                                      Appalachian Hemlock-Hardwood Forest\n",
      "4334                          Southern Ridge and Valley Dry Calcareous Forest\n",
      "4335                              Central Appalachian Pine-Oak Rocky Woodland\n",
      "4401                             Southern and Central Appalachian Cove Forest\n",
      "4402                                 South-Central Interior Mesophytic Forest\n",
      "4537                    Southern Appalachian Montane Pine Forest and Woodland\n",
      "4538                            Southern Appalachian Low Mountain Pine Forest\n",
      "4612                       Central and Southern Appalachian Spruce-Fir Forest\n",
      "5511                          Central Appalachian Alkaline Glade and Woodland\n",
      "7601                               Southern Appalachian Grass and Shrub Bald*\n",
      "8102                              Disturbed/Successional - Shrub Regeneration\n",
      "8103                        Disturbed/Successional - Grass/Forb Regeneration*\n",
      "8107                                      Harvested Forest-Shrub Regeneration\n",
      "8108                               Harvested Forest - Grass/Forb Regeneration\n",
      "8202                                     Evergreen Plantation or Managed Pine\n",
      "8203                                                  Managed Tree Plantation\n",
      "8504                                                           Ruderal forest\n",
      "9212                        North-Central Interior and Appalachian Rich Swamp\n",
      "9222        Central Interior and Appalachian Shrub-Herbaceous Wetland Systems\n",
      "9803                           Central Appalachian Riparian - Forest Modifier\n",
      "9805                South-Central Interior Large Floodplain - Forest Modifier\n",
      "9818                      Central Interior and Appalachian Floodplain Systems\n",
      "9819                        Central Interior and Appalachian Riparian Systems\n",
      "9850                         South-Central Interior Small Stream and Riparian\n",
      "9914                                     North-Central Interior Wet Flatwoods\n",
      "\n",
      "WVBBA detections by WVBBA habitat type\n",
      "                                             wv_name_fine detections\n",
      "wv_code_fine                                                        \n",
      "1               Mixed mesophytic and cove hardwood forest        535\n",
      "10                          Riparian or floodplain forest         60\n",
      "11            Riparian or floodplain shrub-herb community          7\n",
      "12b                                       Deciduous swamp          3\n",
      "14a                                                 Marsh          2\n",
      "15a                                                 Creek          2\n",
      "15b                                                 River          1\n",
      "16                                         Disturbed area         29\n",
      "16a                                            Old fields         71\n",
      "16b                                                Logged         35\n",
      "16c                                        Abandoned mine         20\n",
      "17                                               Farmland        119\n",
      "17a                                               Pasture        120\n",
      "17b                                                   Hay         99\n",
      "18                                              Developed         11\n",
      "18a                                           Residential        143\n",
      "18b                                            Commerical         19\n",
      "2                                        Moist oak forest         47\n",
      "29                             Eastern red-cedar woodland          2\n",
      "2a                                              Mesic oak         91\n",
      "2b                                            Oak-hickory        101\n",
      "3                                          Dry oak forest         51\n",
      "32                                                  Other         31\n",
      "3b                                              Oak-heath          1\n",
      "3c                                         Oak-white pine         16\n",
      "4                               Northern hardwoods forest         39\n",
      "6b                                 Hemlock-mixed hardwood         12\n",
      "7                             Dry Pine forest or woodland          2\n",
      "7a                                                   Pine          1\n",
      "7b                                               Pine-oak          7\n",
      "8                           Successional deciduous forest        110\n",
      "9               Successional or plantation conifer forest          1\n",
      "9a                                   Successional conifer          2\n",
      "7 of 48 GAP ecological system associations were validated.\n"
     ]
    }
   ],
   "source": [
    "# Perform crosswalk of detections from WV -> USGAP\n",
    "master, GAP_linked, unmatched, gap_types, wv_types = fun.cross_to_GAP(species, cross, print_tables=True)"
   ]
  },
  {
   "cell_type": "markdown",
   "metadata": {},
   "source": [
    "## Validated"
   ]
  },
  {
   "cell_type": "code",
   "execution_count": 4,
   "metadata": {},
   "outputs": [
    {
     "name": "stdout",
     "output_type": "stream",
     "text": [
      "Validated associations\n",
      "   GAP_code                                                           GAP_name  detections\n",
      "4      1204                                          Developed, High-intensity        19.0\n",
      "7      1403                                                        Pasture/Hay        99.0\n",
      "19     4202                                     Southern Piedmont Mesic Forest        91.0\n",
      "29     4335                        Central Appalachian Pine-Oak Rocky Woodland         7.0\n",
      "32     4537              Southern Appalachian Montane Pine Forest and Woodland         2.0\n",
      "46     8504                                                     Ruderal forest         2.0\n",
      "48     9222  Central Interior and Appalachian Shrub-Herbaceous Wetland Systems         2.0\n"
     ]
    }
   ],
   "source": [
    "# Show validated associations ------------------------------------------------\n",
    "print(\"Validated associations\")\n",
    "df_valid = master[master['evaluation'] == 'valid']\n",
    "print(df_valid[['GAP_code', 'GAP_name', 'detections']])"
   ]
  },
  {
   "cell_type": "markdown",
   "metadata": {},
   "source": [
    "## Additions"
   ]
  },
  {
   "cell_type": "code",
   "execution_count": 5,
   "metadata": {},
   "outputs": [
    {
     "name": "stdout",
     "output_type": "stream",
     "text": [
      "New GAP ecological system associations that are supported by WVBBA:\n",
      "   GAP_code                                       GAP_name  detections\n",
      "9      3105                   Undifferentiated Barren Land        20.0\n",
      "15     4119  Southern Appalachian Northern Hardwood Forest        39.0\n"
     ]
    }
   ],
   "source": [
    "# Show supported additions ---------------------------------------------------\n",
    "print(\"New GAP ecological system associations that are supported by WVBBA:\")\n",
    "df_add = master[master['evaluation'] == 'add_association']\n",
    "print(df_add[['GAP_code', 'GAP_name', 'detections']])"
   ]
  },
  {
   "cell_type": "markdown",
   "metadata": {},
   "source": [
    "## Invalid codes"
   ]
  },
  {
   "cell_type": "code",
   "execution_count": 6,
   "metadata": {},
   "outputs": [
    {
     "name": "stdout",
     "output_type": "stream",
     "text": [
      "Invalid habitat codes entered by WVBBA observers:\n",
      "{'e': 2.0, 'u': 1.0, '32': 31.0}\n"
     ]
    }
   ],
   "source": [
    "# Show invalid WV codes entered ----------------------------------------------\n",
    "print(\"Invalid habitat codes entered by WVBBA observers:\")\n",
    "print(unmatched)"
   ]
  },
  {
   "cell_type": "markdown",
   "metadata": {},
   "source": [
    "## Summary"
   ]
  },
  {
   "cell_type": "code",
   "execution_count": 7,
   "metadata": {
    "scrolled": false
   },
   "outputs": [
    {
     "name": "stdout",
     "output_type": "stream",
     "text": [
      "                      detections\n",
      "Unusable                  1512.0\n",
      "Supported validation       222.0\n",
      "Supported addition          59.0\n",
      "Total detections          1793.0\n"
     ]
    },
    {
     "data": {
      "text/plain": [
       "Text(0, 0.5, '')"
      ]
     },
     "execution_count": 7,
     "metadata": {},
     "output_type": "execute_result"
    },
    {
     "data": {
      "image/png": "[encoded data removed]",
      "text/plain": [
       "<Figure size 432x288 with 1 Axes>"
      ]
     },
     "metadata": {},
     "output_type": "display_data"
    }
   ],
   "source": [
    "# Report and plot results for usable detections ------------------------------\n",
    "usable_df = pd.DataFrame(index=[\"Unusable\", \"Supported validation\", \"Supported addition\", \"Total detections\"], \n",
    "                         columns=[\"detections\"])\n",
    "usable_df.loc['Supported validation', 'detections'] = int(df_valid[['detections']].sum())\n",
    "usable_df.loc['Supported addition', 'detections'] = int(df_add[['detections']].sum())\n",
    "usable_df.loc['Total detections', 'detections'] = wv_types['detections'].sum()\n",
    "usable_df.loc['Unusable', 'detections'] = int(wv_types['detections'].sum() - df_valid[['detections']].sum() - df_add[['detections']].sum())\n",
    "usable_df = usable_df.fillna(0)\n",
    "print(usable_df)\n",
    "plt1 = usable_df.drop(['Total detections']).plot(y='detections', kind='pie',\n",
    "                                                 legend=False, \n",
    "                                                 title = species + \" Detections\",\n",
    "                                                 colors=['gray', 'g', 'y'])\n",
    "plt1.set_ylabel(\"\")"
   ]
  },
  {
   "cell_type": "code",
   "execution_count": 8,
   "metadata": {
    "scrolled": true
   },
   "outputs": [
    {
     "name": "stdout",
     "output_type": "stream",
     "text": [
      "             GAP_types\n",
      "Unvalidated         41\n",
      "Validated            7\n",
      "Additions            2\n"
     ]
    },
    {
     "data": {
      "image/png": "[encoded data removed]",
      "text/plain": [
       "<Figure size 432x288 with 1 Axes>"
      ]
     },
     "metadata": {
      "needs_background": "light"
     },
     "output_type": "display_data"
    }
   ],
   "source": [
    "# Report and plot results for proportion of GAP systems validated ------------------------------\n",
    "eval_df = pd.DataFrame(index=[\"Unvalidated\", \"Validated\", \"Additions\"], columns=[\"GAP_types\"])\n",
    "eval_df.loc['Unvalidated', \"GAP_types\"] = len(gap_types) - len(df_valid)\n",
    "eval_df.loc['Validated', \"GAP_types\"] = len(df_valid)\n",
    "eval_df.loc['Additions', \"GAP_types\"] = len(df_add)\n",
    "eval_df = eval_df.fillna(0)\n",
    "print(eval_df)\n",
    "plt2 = eval_df.plot(y='GAP_types', kind='barh', legend=False, title = species + \" GAP associations\")"
   ]
  },
  {
   "cell_type": "code",
   "execution_count": null,
   "metadata": {},
   "outputs": [],
   "source": []
  },
  {
   "cell_type": "code",
   "execution_count": null,
   "metadata": {},
   "outputs": [],
   "source": []
  }
 ],
 "metadata": {
  "kernelspec": {
   "display_name": "Python 3",
   "language": "python",
   "name": "python3"
  },
  "language_info": {
   "codemirror_mode": {
    "name": "ipython",
    "version": 3
   },
   "file_extension": ".py",
   "mimetype": "text/x-python",
   "name": "python",
   "nbconvert_exporter": "python",
   "pygments_lexer": "ipython3",
   "version": "3.6.10"
  }
 },
 "nbformat": 4,
 "nbformat_minor": 4
}
