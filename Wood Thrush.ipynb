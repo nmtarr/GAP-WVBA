{
 "cells": [
  {
   "cell_type": "markdown",
   "metadata": {},
   "source": [
    "# USGAP-WVBBA2 Habitat Data Comparison \n",
    "\n",
    "## *Wood Thrush*\n",
    "Nathan Tarr and Jessie Jordan"
   ]
  },
  {
   "cell_type": "code",
   "execution_count": 1,
   "metadata": {},
   "outputs": [],
   "source": [
    "species = 'Wood Thrush'"
   ]
  },
  {
   "cell_type": "code",
   "execution_count": 2,
   "metadata": {},
   "outputs": [],
   "source": [
    "import pandas as pd\n",
    "import repo_functions as fun\n",
    "pd.set_option('display.width', 2000)\n",
    "pd.set_option('display.max_colwidth', 400)\n",
    "pd.set_option('display.max_rows', 400)\n",
    "pd.set_option('display.max_columns', 15)\n",
    "\n",
    "# Load land cover crosswalk - slow loading for some reason\n",
    "cross = pd.read_csv(fun.dataDir + \"LandCover/land_cover_crosswalk.csv\", header=0, dtype={'GAP_code': str}) "
   ]
  },
  {
   "cell_type": "code",
   "execution_count": 9,
   "metadata": {},
   "outputs": [
    {
     "name": "stdout",
     "output_type": "stream",
     "text": [
      "\n",
      "System associations in the GAP model\n",
      "                                                             GAP_name\n",
      "GAP_code                                                             \n",
      "4104          Northeastern Interior Dry Oak Forest-Hardwood Modifier*\n",
      "4106            Northeastern Interior Dry Oak Forest - Mixed Modifier\n",
      "4109              Southern and Central Appalachian Oak Forest - Xeric\n",
      "4114                       Northeastern Interior Dry-Mesic Oak Forest\n",
      "4125                      Southern and Central Appalachian Oak Forest\n",
      "4126      Allegheny-Cumberland Dry Oak Forest and Woodland - Hardwood\n",
      "4202                                   Southern Piedmont Mesic Forest\n",
      "4302      Southern Piedmont Dry Oak-(Pine) Forest - Hardwood Modifier\n",
      "4310        Southern Piedmont Dry Oak-(Pine) Forest - Mixed Modifier*\n",
      "4330                          Central Appalachian Oak and Pine Forest\n",
      "4331                              Appalachian Hemlock-Hardwood Forest\n",
      "4334                  Southern Ridge and Valley Dry Calcareous Forest\n",
      "4335                      Central Appalachian Pine-Oak Rocky Woodland\n",
      "4401                     Southern and Central Appalachian Cove Forest\n",
      "4402                         South-Central Interior Mesophytic Forest\n",
      "5511                  Central Appalachian Alkaline Glade and Woodland\n",
      "5512          Central Interior Highlands Calcareous Glade and Barrens\n",
      "9212                North-Central Interior and Appalachian Rich Swamp\n",
      "9803                   Central Appalachian Riparian - Forest Modifier\n",
      "9805        South-Central Interior Large Floodplain - Forest Modifier\n",
      "9818              Central Interior and Appalachian Floodplain Systems\n",
      "9819                Central Interior and Appalachian Riparian Systems\n",
      "9850                 South-Central Interior Small Stream and Riparian\n",
      "9857                          South-Central Interior Large Floodplain\n",
      "9914                             North-Central Interior Wet Flatwoods\n",
      "\n",
      "WVBBA detections by WVBBA habitat type\n",
      "                                           wv_name_fine detections\n",
      "wv_code_fine                                                      \n",
      "1             Mixed mesophytic and cove hardwood forest        661\n",
      "10                        Riparian or floodplain forest         21\n",
      "16                                       Disturbed area          4\n",
      "16a                                          Old fields          2\n",
      "16b                                              Logged         28\n",
      "17                                             Farmland         12\n",
      "17a                                             Pasture          2\n",
      "18a                                         Residential          7\n",
      "2                                      Moist oak forest         87\n",
      "2a                                            Mesic oak        138\n",
      "2b                                          Oak-hickory        106\n",
      "3                                        Dry oak forest         55\n",
      "32                                                Other          1\n",
      "3b                                            Oak-heath          4\n",
      "3c                                       Oak-white pine         22\n",
      "4                             Northern hardwoods forest         45\n",
      "6b                               Hemlock-mixed hardwood         23\n",
      "7a                                                 Pine          1\n",
      "7b                                             Pine-oak          4\n",
      "8                         Successional deciduous forest        189\n",
      "9             Successional or plantation conifer forest          2\n",
      "9b                                   Plantation conifer          1\n",
      "2 of 25 GAP ecological system associations were validated.\n"
     ]
    }
   ],
   "source": [
    "# Perform crosswalk of detections from WV -> USGAP\n",
    "master, GAP_linked, unmatched, gap_types, wv_types = fun.cross_to_GAP(species, cross, print_tables=True)"
   ]
  },
  {
   "cell_type": "markdown",
   "metadata": {},
   "source": [
    "## Validated"
   ]
  },
  {
   "cell_type": "code",
   "execution_count": 4,
   "metadata": {},
   "outputs": [
    {
     "name": "stdout",
     "output_type": "stream",
     "text": [
      "Validated associations\n",
      "   GAP_code                                     GAP_name  detections\n",
      "14     4202               Southern Piedmont Mesic Forest       138.0\n",
      "24     4335  Central Appalachian Pine-Oak Rocky Woodland         4.0\n"
     ]
    }
   ],
   "source": [
    "# Show validated associations ------------------------------------------------\n",
    "print(\"Validated associations\")\n",
    "df_valid = master[master['evaluation'] == 'valid']\n",
    "print(df_valid[['GAP_code', 'GAP_name', 'detections']])"
   ]
  },
  {
   "cell_type": "markdown",
   "metadata": {},
   "source": [
    "## Additions"
   ]
  },
  {
   "cell_type": "code",
   "execution_count": 5,
   "metadata": {},
   "outputs": [
    {
     "name": "stdout",
     "output_type": "stream",
     "text": [
      "New GAP ecological system associations that are supported by WVBBA:\n",
      "   GAP_code                                       GAP_name  detections\n",
      "5      1403                                    Pasture/Hay         2.0\n",
      "10     4119  Southern Appalachian Northern Hardwood Forest        45.0\n",
      "39     8504                                 Ruderal forest       189.0\n"
     ]
    }
   ],
   "source": [
    "# Show supported additions ---------------------------------------------------\n",
    "print(\"New GAP ecological system associations that are supported by WVBBA:\")\n",
    "df_add = master[master['evaluation'] == 'add_association']\n",
    "print(df_add[['GAP_code', 'GAP_name', 'detections']])"
   ]
  },
  {
   "cell_type": "markdown",
   "metadata": {},
   "source": [
    "## Invalid codes"
   ]
  },
  {
   "cell_type": "code",
   "execution_count": 6,
   "metadata": {},
   "outputs": [
    {
     "name": "stdout",
     "output_type": "stream",
     "text": [
      "Invalid habitat codes entered by WVBBA observers:\n",
      "{',': 1.0, '32': 1.0}\n"
     ]
    }
   ],
   "source": [
    "# Show invalid WV codes entered ----------------------------------------------\n",
    "print(\"Invalid habitat codes entered by WVBBA observers:\")\n",
    "print(unmatched)"
   ]
  },
  {
   "cell_type": "markdown",
   "metadata": {},
   "source": [
    "## Summary"
   ]
  },
  {
   "cell_type": "code",
   "execution_count": 7,
   "metadata": {
    "scrolled": false
   },
   "outputs": [
    {
     "name": "stdout",
     "output_type": "stream",
     "text": [
      "                      detections\n",
      "Unusable                  1038.0\n",
      "Supported validation       142.0\n",
      "Supported addition         236.0\n",
      "Total detections          1416.0\n"
     ]
    },
    {
     "data": {
      "text/plain": [
       "Text(0, 0.5, '')"
      ]
     },
     "execution_count": 7,
     "metadata": {},
     "output_type": "execute_result"
    },
    {
     "data": {
      "image/png": "[encoded data removed]",
      "text/plain": [
       "<Figure size 432x288 with 1 Axes>"
      ]
     },
     "metadata": {},
     "output_type": "display_data"
    }
   ],
   "source": [
    "# Report and plot results for usable detections ------------------------------\n",
    "usable_df = pd.DataFrame(index=[\"Unusable\", \"Supported validation\", \"Supported addition\", \"Total detections\"], \n",
    "                         columns=[\"detections\"])\n",
    "usable_df.loc['Supported validation', 'detections'] = int(df_valid[['detections']].sum())\n",
    "usable_df.loc['Supported addition', 'detections'] = int(df_add[['detections']].sum())\n",
    "usable_df.loc['Total detections', 'detections'] = wv_types['detections'].sum()\n",
    "usable_df.loc['Unusable', 'detections'] = int(wv_types['detections'].sum() - df_valid[['detections']].sum() - df_add[['detections']].sum())\n",
    "usable_df = usable_df.fillna(0)\n",
    "print(usable_df)\n",
    "plt1 = usable_df.drop(['Total detections']).plot(y='detections', kind='pie',\n",
    "                                                 legend=False, \n",
    "                                                 title = species + \" Detections\",\n",
    "                                                 colors=['gray', 'g', 'y'])\n",
    "plt1.set_ylabel(\"\")"
   ]
  },
  {
   "cell_type": "code",
   "execution_count": 8,
   "metadata": {
    "scrolled": true
   },
   "outputs": [
    {
     "name": "stdout",
     "output_type": "stream",
     "text": [
      "             GAP_types\n",
      "Unvalidated         23\n",
      "Validated            2\n",
      "Additions            3\n"
     ]
    },
    {
     "data": {
      "image/png": "[encoded data removed]",
      "text/plain": [
       "<Figure size 432x288 with 1 Axes>"
      ]
     },
     "metadata": {
      "needs_background": "light"
     },
     "output_type": "display_data"
    }
   ],
   "source": [
    "# Report and plot results for proportion of GAP systems validated ------------------------------\n",
    "eval_df = pd.DataFrame(index=[\"Unvalidated\", \"Validated\", \"Additions\"], columns=[\"GAP_types\"])\n",
    "eval_df.loc['Unvalidated', \"GAP_types\"] = len(gap_types) - len(df_valid)\n",
    "eval_df.loc['Validated', \"GAP_types\"] = len(df_valid)\n",
    "eval_df.loc['Additions', \"GAP_types\"] = len(df_add)\n",
    "eval_df = eval_df.fillna(0)\n",
    "print(eval_df)\n",
    "plt2 = eval_df.plot(y='GAP_types', kind='barh', legend=False, title = species + \" GAP associations\")"
   ]
  },
  {
   "cell_type": "code",
   "execution_count": null,
   "metadata": {},
   "outputs": [],
   "source": []
  }
 ],
 "metadata": {
  "kernelspec": {
   "display_name": "Python 3",
   "language": "python",
   "name": "python3"
  },
  "language_info": {
   "codemirror_mode": {
    "name": "ipython",
    "version": 3
   },
   "file_extension": ".py",
   "mimetype": "text/x-python",
   "name": "python",
   "nbconvert_exporter": "python",
   "pygments_lexer": "ipython3",
   "version": "3.6.10"
  }
 },
 "nbformat": 4,
 "nbformat_minor": 4
}
