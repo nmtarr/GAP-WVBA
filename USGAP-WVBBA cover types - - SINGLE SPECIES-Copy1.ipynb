{
 "cells": [
  {
   "cell_type": "markdown",
   "metadata": {},
   "source": [
    "#  US Gap Analysis Project - WV Breeding Bird Atlas Data Comparison \n",
    "Nathan Tarr and Jessie Jordan\n",
    "\n",
    "## Cover type associations in West Virginia\n",
    "We investigated the agreement between WV Breeding Bird Atlas (2011-2015) and USGS Gap Analysis Project data on "
   ]
  },
  {
   "cell_type": "code",
   "execution_count": 1,
   "metadata": {},
   "outputs": [],
   "source": [
    "# Define a species ----------------------------------------------------------\n",
    "species = 'Common Yellowthroat'"
   ]
  },
  {
   "cell_type": "code",
   "execution_count": 2,
   "metadata": {},
   "outputs": [],
   "source": [
    "import pandas as pd\n",
    "import repo_functions as fun\n",
    "pd.set_option('display.width', 2000)\n",
    "pd.set_option('display.max_colwidth', 400)\n",
    "pd.set_option('display.max_rows', 400)\n",
    "pd.set_option('display.max_columns', 15)\n",
    "\n",
    "# Load land cover crosswalk - slow loading for some reason\n",
    "cross = pd.read_csv(fun.dataDir + \"LandCover/land_cover_crosswalk.csv\", header=0, dtype={'GAP_code': str}) "
   ]
  },
  {
   "cell_type": "code",
   "execution_count": 3,
   "metadata": {},
   "outputs": [],
   "source": [
    "# Perform crosswalk of detections from WV -> USGAP\n",
    "master, GAP_linked, unmatched, gap_types, wv_types = fun.cross_to_GAP(species, cross, print_tables=False)"
   ]
  },
  {
   "cell_type": "code",
   "execution_count": 4,
   "metadata": {},
   "outputs": [
    {
     "name": "stdout",
     "output_type": "stream",
     "text": [
      "Validated associations\n",
      "   GAP_code                                                           GAP_name  detections\n",
      "7      1403                                                        Pasture/Hay         9.0\n",
      "12     4119                      Southern Appalachian Northern Hardwood Forest        14.0\n",
      "16     4202                                     Southern Piedmont Mesic Forest         2.0\n",
      "35     8504                                                     Ruderal forest        43.0\n",
      "37     9222  Central Interior and Appalachian Shrub-Herbaceous Wetland Systems         8.0\n"
     ]
    }
   ],
   "source": [
    "# Show validated associations ------------------------------------------------\n",
    "print(\"Validated associations\")\n",
    "df_valid = master[master['evaluation'] == 'valid']\n",
    "print(df_valid[['GAP_code', 'GAP_name', 'detections']])"
   ]
  },
  {
   "cell_type": "code",
   "execution_count": 5,
   "metadata": {},
   "outputs": [
    {
     "name": "stdout",
     "output_type": "stream",
     "text": [
      "New GAP ecological system associations that are supported by WVBBA:\n",
      "  GAP_code                      GAP_name  detections\n",
      "8     2102            Open Water (Fresh)         4.0\n",
      "9     3105  Undifferentiated Barren Land         9.0\n"
     ]
    }
   ],
   "source": [
    "# Show supported additions ---------------------------------------------------\n",
    "print(\"New GAP ecological system associations that are supported by WVBBA:\")\n",
    "df_add = master[master['evaluation'] == 'add_association']\n",
    "print(df_add[['GAP_code', 'GAP_name', 'detections']])"
   ]
  },
  {
   "cell_type": "code",
   "execution_count": 6,
   "metadata": {},
   "outputs": [
    {
     "name": "stdout",
     "output_type": "stream",
     "text": [
      "Invalid habitat codes entered by WVBBA observers:\n",
      "{'32': 2.0}\n"
     ]
    }
   ],
   "source": [
    "# Show invalid WV codes entered ----------------------------------------------\n",
    "print(\"Invalid habitat codes entered by WVBBA observers:\")\n",
    "print(unmatched)"
   ]
  },
  {
   "cell_type": "code",
   "execution_count": 8,
   "metadata": {},
   "outputs": [
    {
     "name": "stdout",
     "output_type": "stream",
     "text": [
      "GAP_name                                                           evaluation     \n",
      "Allegheny-Cumberland Dry Oak Forest and Woodland - Hardwood        No match           1\n",
      "Allegheny-Cumberland Dry Oak Forest and Woodland - Pine Modifier   No match           1\n",
      "Appalachian Hemlock-Hardwood Forest                                No match           1\n",
      "Central Appalachian Riparian - Forest Modifier                     No match           1\n",
      "Central Interior and Appalachian Floodplain Systems                No match           1\n",
      "Central Interior and Appalachian Riparian Systems                  No match           1\n",
      "Central Interior and Appalachian Shrub-Herbaceous Wetland Systems  valid              1\n",
      "Central and Southern Appalachian Montane Oak Forest                No match           1\n",
      "Central and Southern Appalachian Spruce-Fir Forest                 No match           1\n",
      "Cultivated Cropland                                                No match           1\n",
      "Developed, High-intensity                                          No match           1\n",
      "Developed, Low-intensity                                           No match           1\n",
      "Developed, Medium-intensity                                        No match           1\n",
      "Developed, Open Space                                              No match           1\n",
      "Disturbed, Non-specific                                            No match           1\n",
      "Disturbed/Successional - Grass/Forb Regeneration*                  No match           1\n",
      "Disturbed/Successional - Shrub Regeneration                        No match           1\n",
      "Evergreen Plantation or Managed Pine                               No match           1\n",
      "Harvested Forest - Grass/Forb Regeneration                         No match           1\n",
      "Harvested Forest-Shrub Regeneration                                No match           1\n",
      "Introduced Upland Vegetation - Annual Grassland                    No match           1\n",
      "Introduced Upland Vegetation - Treed                               No match           1\n",
      "Managed Tree Plantation                                            No match           1\n",
      "North-Central Interior Wet Flatwoods                               No match           1\n",
      "North-Central Interior and Appalachian Rich Swamp                  No match           1\n",
      "Northeastern Interior Dry Oak Forest-Hardwood Modifier*            No match           1\n",
      "Northeastern Interior Dry-Mesic Oak Forest                         No match           1\n",
      "Open Water (Fresh)                                                 add_association    1\n",
      "Pasture/Hay                                                        valid              1\n",
      "Quarries, Mines, Gravel Pits and Oil Wells                         No match           1\n",
      "Ruderal forest                                                     valid              1\n",
      "South-Central Interior Large Floodplain                            No match           1\n",
      "South-Central Interior Large Floodplain - Forest Modifier          No match           1\n",
      "South-Central Interior Mesophytic Forest                           No match           1\n",
      "South-Central Interior Small Stream and Riparian                   No match           1\n",
      "Southern Appalachian Northern Hardwood Forest                      valid              1\n",
      "Southern Piedmont Dry Oak-(Pine) Forest - Hardwood Modifier        No match           1\n",
      "Southern Piedmont Dry Oak-(Pine) Forest*                           No match           1\n",
      "Southern Piedmont Mesic Forest                                     valid              1\n",
      "Southern Ridge and Valley Dry Calcareous Forest                    No match           1\n",
      "Southern Ridge and Valley Dry Calcareous Forest - Pine modifier    No match           1\n",
      "Southern and Central Appalachian Cove Forest                       No match           1\n",
      "Southern and Central Appalachian Oak Forest                        No match           1\n",
      "Undifferentiated Barren Land                                       add_association    1\n",
      "Name: Times Validated, dtype: int64\n"
     ]
    }
   ],
   "source": [
    "#create table with count of validated systems\n",
    "master['evaluation'].fillna(value = 'No match', inplace = True)\n",
    "master.set_index(['GAP_name','evaluation'], inplace=True)\n",
    "master.insert(5, 'Times Validated', '1', True)\n",
    "master = master.astype({'Times Validated': 'int32'})\n",
    "valdf = master.groupby(['GAP_name','evaluation'])[\"Times Validated\"].count()\n",
    "print(valdf)"
   ]
  },
  {
   "cell_type": "code",
   "execution_count": 9,
   "metadata": {
    "scrolled": false
   },
   "outputs": [
    {
     "name": "stdout",
     "output_type": "stream",
     "text": [
      "                      detections\n",
      "Unusable                   304.0\n",
      "Supported validation        76.0\n",
      "Supported addition          13.0\n",
      "Total detections           393.0\n"
     ]
    },
    {
     "data": {
      "text/plain": [
       "Text(0, 0.5, '')"
      ]
     },
     "execution_count": 9,
     "metadata": {},
     "output_type": "execute_result"
    },
    {
     "data": {
      "image/png": "[encoded data removed]",
      "text/plain": [
       "<Figure size 432x288 with 1 Axes>"
      ]
     },
     "metadata": {},
     "output_type": "display_data"
    }
   ],
   "source": [
    "# Report and plot results for usable detections ------------------------------\n",
    "usable_df = pd.DataFrame(index=[\"Unusable\", \"Supported validation\", \"Supported addition\", \"Total detections\"], \n",
    "                         columns=[\"detections\"])\n",
    "usable_df.loc['Supported validation', 'detections'] = int(df_valid[['detections']].sum())\n",
    "usable_df.loc['Supported addition', 'detections'] = int(df_add[['detections']].sum())\n",
    "usable_df.loc['Total detections', 'detections'] = wv_types['detections'].sum()\n",
    "usable_df.loc['Unusable', 'detections'] = int(wv_types['detections'].sum() - df_valid[['detections']].sum() - df_add[['detections']].sum())\n",
    "usable_df = usable_df.fillna(0)\n",
    "print(usable_df)\n",
    "plt1 = usable_df.drop(['Total detections']).plot(y='detections', kind='pie',\n",
    "                                                 legend=False, \n",
    "                                                 title = species + \" Detections\",\n",
    "                                                 colors=['gray', 'g', 'y'])\n",
    "plt1.set_ylabel(\"\")"
   ]
  },
  {
   "cell_type": "code",
   "execution_count": 16,
   "metadata": {},
   "outputs": [
    {
     "name": "stdout",
     "output_type": "stream",
     "text": [
      "             GAP_types\n",
      "Unvalidated         28\n",
      "Validated            5\n",
      "Additions            2\n"
     ]
    },
    {
     "data": {
      "image/png": "[encoded data removed]",
      "text/plain": [
       "<Figure size 432x288 with 1 Axes>"
      ]
     },
     "metadata": {
      "needs_background": "light"
     },
     "output_type": "display_data"
    }
   ],
   "source": [
    "# Report and plot results for proportion of GAP systems validated ------------------------------\n",
    "eval_df = pd.DataFrame(index=[\"Unvalidated\", \"Validated\", \"Additions\"], columns=[\"GAP_types\"])\n",
    "eval_df.loc['Unvalidated', \"GAP_types\"] = len(gap_types) - len(df_valid)\n",
    "eval_df.loc['Validated', \"GAP_types\"] = len(df_valid)\n",
    "eval_df.loc['Additions', \"GAP_types\"] = len(df_add)\n",
    "eval_df = eval_df.fillna(0)\n",
    "print(eval_df)\n",
    "plt2 = eval_df.plot(y='GAP_types', kind='barh', legend=False, title = species + \" GAP associations\")"
   ]
  }
 ],
 "metadata": {
  "kernelspec": {
   "display_name": "Python 3",
   "language": "python",
   "name": "python3"
  },
  "language_info": {
   "codemirror_mode": {
    "name": "ipython",
    "version": 3
   },
   "file_extension": ".py",
   "mimetype": "text/x-python",
   "name": "python",
   "nbconvert_exporter": "python",
   "pygments_lexer": "ipython3",
   "version": "3.6.10"
  }
 },
 "nbformat": 4,
 "nbformat_minor": 4
}
