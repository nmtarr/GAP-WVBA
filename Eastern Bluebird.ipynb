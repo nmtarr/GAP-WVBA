{
 "cells": [
  {
   "cell_type": "markdown",
   "metadata": {},
   "source": [
    "# USGAP-WVBBA2 Habitat Data Comparison \n",
    "\n",
    "## *Eastern Bluebird*\n",
    "Nathan Tarr and Jessie Jordan"
   ]
  },
  {
   "cell_type": "code",
   "execution_count": 4,
   "metadata": {},
   "outputs": [],
   "source": [
    "species = 'Eastern Bluebird'"
   ]
  },
  {
   "cell_type": "code",
   "execution_count": 5,
   "metadata": {},
   "outputs": [],
   "source": [
    "import pandas as pd\n",
    "import repo_functions as fun\n",
    "pd.set_option('display.width', 2000)\n",
    "pd.set_option('display.max_colwidth', 400)\n",
    "pd.set_option('display.max_rows', 400)\n",
    "pd.set_option('display.max_columns', 15)\n",
    "\n",
    "# Load land cover crosswalk - slow loading for some reason\n",
    "cross = pd.read_csv(fun.dataDir + \"LandCover/land_cover_crosswalk.csv\", header=0, dtype={'GAP_code': str}) "
   ]
  },
  {
   "cell_type": "code",
   "execution_count": 6,
   "metadata": {},
   "outputs": [
    {
     "name": "stdout",
     "output_type": "stream",
     "text": [
      "\n",
      "System associations in the GAP model\n",
      "                                                         GAP_name\n",
      "GAP_code                                                         \n",
      "1201                                        Developed, Open Space\n",
      "1202                                     Developed, Low-intensity\n",
      "1203                                  Developed, Medium-intensity\n",
      "1402                                          Cultivated Cropland\n",
      "1403                                                  Pasture/Hay\n",
      "3207      North-Central Appalachian Circumneutral Cliff and Talus\n",
      "3208             North-Central Appalachian Acidic Cliff and Talus\n",
      "4314                                    Appalachian Shale Barrens\n",
      "4335                  Central Appalachian Pine-Oak Rocky Woodland\n",
      "4537        Southern Appalachian Montane Pine Forest and Woodland\n",
      "5511              Central Appalachian Alkaline Glade and Woodland\n",
      "5512      Central Interior Highlands Calcareous Glade and Barrens\n",
      "8103            Disturbed/Successional - Grass/Forb Regeneration*\n",
      "8107                          Harvested Forest-Shrub Regeneration\n",
      "8108                   Harvested Forest - Grass/Forb Regeneration\n",
      "8404              Introduced Upland Vegetation - Annual Grassland\n",
      "8501                                      Disturbed, Non-specific\n",
      "9914                         North-Central Interior Wet Flatwoods\n",
      "\n",
      "WVBBA detections by WVBBA habitat type\n",
      "                                             wv_name_fine detections\n",
      "wv_code_fine                                                        \n",
      "1               Mixed mesophytic and cove hardwood forest          7\n",
      "10                          Riparian or floodplain forest          3\n",
      "11            Riparian or floodplain shrub-herb community          5\n",
      "16                                         Disturbed area         11\n",
      "16a                                            Old fields         27\n",
      "16b                                                Logged          7\n",
      "16c                                        Abandoned mine          5\n",
      "17                                               Farmland         39\n",
      "17a                                               Pasture         69\n",
      "17b                                                   Hay         43\n",
      "17c                                             Row crops          2\n",
      "18                                              Developed          8\n",
      "18a                                           Residential         92\n",
      "18b                                            Commerical          5\n",
      "18c                                            Industrial          1\n",
      "2                                        Moist oak forest          1\n",
      "2b                                            Oak-hickory          2\n",
      "3                                          Dry oak forest          4\n",
      "32                                                  Other          7\n",
      "4                               Northern hardwoods forest          1\n",
      "8                           Successional deciduous forest         17\n",
      "2 of 18 GAP ecological system associations were validated.\n"
     ]
    }
   ],
   "source": [
    "# Perform crosswalk of detections from WV -> USGAP\n",
    "master, GAP_linked, unmatched, gap_types, wv_types = fun.cross_to_GAP(species, cross, print_tables=True)"
   ]
  },
  {
   "cell_type": "markdown",
   "metadata": {},
   "source": [
    "## Validated"
   ]
  },
  {
   "cell_type": "code",
   "execution_count": 7,
   "metadata": {},
   "outputs": [
    {
     "name": "stdout",
     "output_type": "stream",
     "text": [
      "Validated associations\n",
      "  GAP_code             GAP_name  detections\n",
      "6     1402  Cultivated Cropland         2.0\n",
      "7     1403          Pasture/Hay        43.0\n"
     ]
    }
   ],
   "source": [
    "# Show validated associations ------------------------------------------------\n",
    "print(\"Validated associations\")\n",
    "df_valid = master[master['evaluation'] == 'valid']\n",
    "print(df_valid[['GAP_code', 'GAP_name', 'detections']])"
   ]
  },
  {
   "cell_type": "markdown",
   "metadata": {},
   "source": [
    "## Additions"
   ]
  },
  {
   "cell_type": "code",
   "execution_count": 8,
   "metadata": {},
   "outputs": [
    {
     "name": "stdout",
     "output_type": "stream",
     "text": [
      "New GAP ecological system associations that are supported by WVBBA:\n",
      "   GAP_code                      GAP_name  detections\n",
      "8      3105  Undifferentiated Barren Land         5.0\n",
      "36     8504                Ruderal forest        17.0\n"
     ]
    }
   ],
   "source": [
    "# Show supported additions ---------------------------------------------------\n",
    "print(\"New GAP ecological system associations that are supported by WVBBA:\")\n",
    "df_add = master[master['evaluation'] == 'add_association']\n",
    "print(df_add[['GAP_code', 'GAP_name', 'detections']])"
   ]
  },
  {
   "cell_type": "markdown",
   "metadata": {},
   "source": [
    "## Invalid codes"
   ]
  },
  {
   "cell_type": "code",
   "execution_count": 9,
   "metadata": {},
   "outputs": [
    {
     "name": "stdout",
     "output_type": "stream",
     "text": [
      "Invalid habitat codes entered by WVBBA observers:\n",
      "{'32': 7.0}\n"
     ]
    }
   ],
   "source": [
    "# Show invalid WV codes entered ----------------------------------------------\n",
    "print(\"Invalid habitat codes entered by WVBBA observers:\")\n",
    "print(unmatched)"
   ]
  },
  {
   "cell_type": "markdown",
   "metadata": {},
   "source": [
    "## Summary"
   ]
  },
  {
   "cell_type": "code",
   "execution_count": 10,
   "metadata": {
    "scrolled": false
   },
   "outputs": [
    {
     "name": "stdout",
     "output_type": "stream",
     "text": [
      "                      detections\n",
      "Unusable                   289.0\n",
      "Supported validation        45.0\n",
      "Supported addition          22.0\n",
      "Total detections           356.0\n"
     ]
    },
    {
     "data": {
      "text/plain": [
       "Text(0, 0.5, '')"
      ]
     },
     "execution_count": 10,
     "metadata": {},
     "output_type": "execute_result"
    },
    {
     "data": {
      "image/png": "[encoded data removed]",
      "text/plain": [
       "<Figure size 432x288 with 1 Axes>"
      ]
     },
     "metadata": {},
     "output_type": "display_data"
    }
   ],
   "source": [
    "# Report and plot results for usable detections ------------------------------\n",
    "usable_df = pd.DataFrame(index=[\"Unusable\", \"Supported validation\", \"Supported addition\", \"Total detections\"], \n",
    "                         columns=[\"detections\"])\n",
    "usable_df.loc['Supported validation', 'detections'] = int(df_valid[['detections']].sum())\n",
    "usable_df.loc['Supported addition', 'detections'] = int(df_add[['detections']].sum())\n",
    "usable_df.loc['Total detections', 'detections'] = wv_types['detections'].sum()\n",
    "usable_df.loc['Unusable', 'detections'] = int(wv_types['detections'].sum() - df_valid[['detections']].sum() - df_add[['detections']].sum())\n",
    "usable_df = usable_df.fillna(0)\n",
    "print(usable_df)\n",
    "plt1 = usable_df.drop(['Total detections']).plot(y='detections', kind='pie',\n",
    "                                                 legend=False, \n",
    "                                                 title = species + \" Detections\",\n",
    "                                                 colors=['gray', 'g', 'y'])\n",
    "plt1.set_ylabel(\"\")"
   ]
  },
  {
   "cell_type": "code",
   "execution_count": 11,
   "metadata": {
    "scrolled": true
   },
   "outputs": [
    {
     "name": "stdout",
     "output_type": "stream",
     "text": [
      "             GAP_types\n",
      "Unvalidated         16\n",
      "Validated            2\n",
      "Additions            2\n"
     ]
    },
    {
     "data": {
      "image/png": "[encoded data removed]",
      "text/plain": [
       "<Figure size 432x288 with 1 Axes>"
      ]
     },
     "metadata": {
      "needs_background": "light"
     },
     "output_type": "display_data"
    }
   ],
   "source": [
    "# Report and plot results for proportion of GAP systems validated ------------------------------\n",
    "eval_df = pd.DataFrame(index=[\"Unvalidated\", \"Validated\", \"Additions\"], columns=[\"GAP_types\"])\n",
    "eval_df.loc['Unvalidated', \"GAP_types\"] = len(gap_types) - len(df_valid)\n",
    "eval_df.loc['Validated', \"GAP_types\"] = len(df_valid)\n",
    "eval_df.loc['Additions', \"GAP_types\"] = len(df_add)\n",
    "eval_df = eval_df.fillna(0)\n",
    "print(eval_df)\n",
    "plt2 = eval_df.plot(y='GAP_types', kind='barh', legend=False, title = species + \" GAP associations\")"
   ]
  },
  {
   "cell_type": "code",
   "execution_count": null,
   "metadata": {},
   "outputs": [],
   "source": []
  },
  {
   "cell_type": "code",
   "execution_count": null,
   "metadata": {},
   "outputs": [],
   "source": []
  }
 ],
 "metadata": {
  "kernelspec": {
   "display_name": "Python 3",
   "language": "python",
   "name": "python3"
  },
  "language_info": {
   "codemirror_mode": {
    "name": "ipython",
    "version": 3
   },
   "file_extension": ".py",
   "mimetype": "text/x-python",
   "name": "python",
   "nbconvert_exporter": "python",
   "pygments_lexer": "ipython3",
   "version": "3.6.10"
  }
 },
 "nbformat": 4,
 "nbformat_minor": 4
}
