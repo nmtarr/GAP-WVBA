{
 "cells": [
  {
   "cell_type": "markdown",
   "metadata": {},
   "source": [
    "# US Gap Analysis Project - WV Breeding Bird Atlas Data Comparison\n",
    "\n",
    "*Nathan Tarr and Jessie Jordan*\n",
    "\n",
    "## Cover type associations in West Virginia Summarized Across All Species\n",
    "\n",
    "We investigated the agreement between WV Breeding Bird Atlas (2011-2015) and USGS Gap Analysis Project data"
   ]
  },
  {
   "cell_type": "code",
   "execution_count": 1,
   "metadata": {},
   "outputs": [],
   "source": [
    "import pandas as pd\n",
    "import numpy as np\n",
    "import repo_functions as fun\n",
    "pd.set_option('display.width', 2000)\n",
    "pd.set_option('display.max_colwidth', 400)\n",
    "pd.set_option('display.max_rows', 400)\n",
    "pd.set_option('display.max_columns', 15)"
   ]
  },
  {
   "cell_type": "code",
   "execution_count": 2,
   "metadata": {},
   "outputs": [],
   "source": [
    "# Call species lists and generate empty dataframes-----------------------------\n",
    "specieslist = (pd.read_csv(fun.dataDir + \"/SpeciesLists/WV_GAP_Atlas3.csv\", \n",
    "                           index_col ='common_name', header=0))\n",
    "mastdf = pd.DataFrame(index=[ \"Unusable\", \"Supported validation\", \n",
    "                                        \"Supported addition\", \n",
    "                                        \"Total detections\"], \n",
    "                             columns=[\"Species\", \"detections\"])\n",
    "masteval = pd.DataFrame(index=[ \"Unvalidated\", \"Validated\", \n",
    "                              \"Additions\"], columns=[\"Species\", \n",
    "                                            \"GAP_types\"])\n",
    "typedf = pd.DataFrame(index=['GAP_name', 'evaluation'], columns=['GAP_code', 'GAP_associated', \n",
    "                                         'cross_confidence', 'cross_matches', 'detections', \n",
    "                                         'wv_code_fine', 'wv_name_fine', 'link_strength', 'GAP_name', \n",
    "                                         'support', 'evaluation'])\n",
    "\n",
    "allunmatch = []\n",
    "\n",
    "# Load land cover crosswalk - slow loading for some reason\n",
    "cross = pd.read_csv(fun.dataDir + \"LandCover/land_cover_crosswalk.csv\", \n",
    "                    header=0, dtype={'GAP_code': str}) \n"
   ]
  },
  {
   "cell_type": "code",
   "execution_count": 3,
   "metadata": {},
   "outputs": [
    {
     "name": "stdout",
     "output_type": "stream",
     "text": [
      "Concatonate failed for Bewick's Wren\n",
      "Concatonate failed for Hooded Merganser\n",
      "Concatonate failed for King Rail\n",
      "Concatonate failed for Prothonotary Warbler\n",
      "Concatonate failed for Ruby-crowned Kinglet\n",
      "Concatonate failed for Rusty Blackbird\n",
      "Concatonate failed for Eurasian Collared-dove\n",
      "Concatonate failed for Northern Goshawk\n",
      "Concatonate failed for Northern Saw-whet Owl\n",
      "Concatonate failed for Peregrine Falcon\n",
      "Concatonate failed for Pine Grosbeak\n",
      "Concatonate failed for Redhead\n",
      "Concatonate failed for Ring-necked Duck\n",
      "Concatonate failed for Bufflehead\n",
      "Concatonate failed for Common Goldeneye\n",
      "Concatonate failed for Hoary Redpoll\n",
      "Concatonate failed for Lark Sparrow\n",
      "Concatonate failed for Red Crossbill\n",
      "Concatonate failed for Rough-legged Hawk\n",
      "Concatonate failed for Ring-necked Pheasant\n",
      "Concatonate failed for Short-eared Owl\n",
      "Concatonate failed for Snowy Owl\n",
      "Concatonate failed for Sora\n",
      "Concatonate failed for Black-crowned Night-heron\n",
      "Concatonate failed for Eurasian Wigeon\n",
      "Concatonate failed for Gadwall\n",
      "Concatonate failed for Greater Scaup\n",
      "Concatonate failed for Nashville Warbler\n",
      "Concatonate failed for Pied-billed Grebe\n",
      "Concatonate failed for American Woodcock\n",
      "Concatonate failed for American Tree Sparrow\n",
      "Concatonate failed for Cattle Egret\n",
      "Concatonate failed for Common Nighthawk\n",
      "Concatonate failed for Northern Pintail\n",
      "Concatonate failed for Pine Siskin\n",
      "Concatonate failed for Snow Bunting\n",
      "Concatonate failed for Barn Owl\n",
      "Concatonate failed for White-crowned Sparrow\n",
      "Concatonate failed for Green-winged Teal\n",
      "Concatonate failed for Marsh Wren\n",
      "Concatonate failed for Northern Shrike\n",
      "Concatonate failed for White-throated Sparrow\n",
      "Concatonate failed for Blue-winged Teal\n",
      "Concatonate failed for Fox Sparrow\n",
      "Concatonate failed for Lapland Longspur\n",
      "Concatonate failed for Least Bittern\n",
      "Concatonate failed for Long-eared Owl\n",
      "Concatonate failed for Northern Harrier\n",
      "Concatonate failed for Olive-sided Flycatcher\n",
      "Concatonate failed for American Bittern\n",
      "Concatonate failed for American Coot\n",
      "Concatonate failed for Chuck-will's-widow\n",
      "Concatonate failed for Evening Grosbeak\n",
      "Concatonate failed for Golden Eagle\n",
      "Concatonate failed for Lesser Scaup\n",
      "Concatonate failed for Upland Sandpiper\n",
      "Concatonate failed for Whip-poor-will\n",
      "Concatonate failed for White-winged Crossbill\n",
      "Concatonate failed for Yellow Warbler\n",
      "Concatonate failed for Common Merganser\n",
      "Concatonate failed for Osprey\n",
      "Concatonate failed for Spotted Sandpiper\n",
      "Concatonate failed for Solitary Vireo\n",
      "Concatonate failed for Brewster's Warbler\n",
      "Concatonate failed for Lawrence's Warbler\n",
      "Concatonate failed for Bay-breasted Warbler\n",
      "Concatonate failed for Blackpoll Warbler\n",
      "Concatonate failed for Slate-colored Junco\n",
      "Concatonate failed for Clay-colored Sparrow\n",
      "Concatonate failed for Merlin\n",
      "Concatonate failed for Wilson's Snipe\n",
      "Concatonate failed for Yellow-bellied Flycatcher\n",
      "Concatonate failed for Common Gallinule\n",
      "Concatonate failed for Mississippi Kite\n",
      "Data compiled succesfully\n"
     ]
    }
   ],
   "source": [
    "for species in specieslist.index[0:] :\n",
    "    try:\n",
    "        # Perform crosswalk of detections from WV -> USGAP\n",
    "        master, GAP_linked, unmatched, gap_types, wv_types = fun.cross_to_GAP(species, \n",
    "                                                    cross, print_tables=False)\n",
    "        \n",
    "        master_valid = master[master['evaluation'] == 'valid']\n",
    "        master_add = master[master['evaluation'] == 'add_association']\n",
    "        usable_df = pd.DataFrame(index=[ \"Unusable\", \"Supported validation\", \n",
    "                                        \"Supported addition\", \n",
    "                                        \"Total detections\"], \n",
    "                             columns=[\"detections\"])\n",
    "        usable_df.loc['Supported validation', \n",
    "                      'detections'] = int(master_valid[['detections']].sum())\n",
    "        usable_df.loc['Supported addition', \n",
    "                      'detections'] = int(master_add[['detections']].sum())\n",
    "        usable_df.loc['Unusable', \n",
    "                      'detections'] = int(wv_types['detections'].sum() - \n",
    "                                          master_valid[['detections']].sum() - \n",
    "                                          master_add[['detections']].sum())\n",
    "        usable_df.loc['Total detections', \n",
    "                      'detections'] = wv_types['detections'].sum()\n",
    "        usable_df.insert(0, \"Species\", species, True)\n",
    "        usable_df = usable_df.fillna(0)\n",
    "        mastdf = pd.concat([usable_df, mastdf])\n",
    "        typedf = pd.concat([master, typedf])\n",
    "        \n",
    "        # Aggregate results for proportion of GAP systems validated------------\n",
    "        eval_df = pd.DataFrame(index=[ \"Unvalidated\", \"Validated\", \n",
    "                                      \"Additions\"], columns=[\"GAP_types\"])\n",
    "        eval_df.loc['Unvalidated', \"GAP_types\"] = len(gap_types) - len(master_valid)\n",
    "        eval_df.loc['Validated', \"GAP_types\"] = len(master_valid)\n",
    "        eval_df.loc['Additions', \"GAP_types\"] = len(master_add)\n",
    "        eval_df.insert(0, \"Species\", species, True)\n",
    "        eval_df = eval_df.fillna(0)\n",
    "        masteval = pd.concat([eval_df, masteval])\n",
    "        \n",
    "        #Generate a full list of unmatched habitat types across all species\n",
    "        allunmatch.append(unmatched)\n",
    "    except Exception as e: \n",
    "            print(str(\"Concatonate failed for \") + species)\n",
    "print(\"Data compiled succesfully\")"
   ]
  },
  {
   "cell_type": "code",
   "execution_count": 4,
   "metadata": {},
   "outputs": [
    {
     "name": "stdout",
     "output_type": "stream",
     "text": [
      "     Unmatched Observations  Number of spp with Record\n",
      "32                    745.0                         71\n",
      ",                       1.0                          1\n",
      "32b                     2.0                          2\n",
      "68                      4.0                          2\n",
      "32a                     4.0                          3\n",
      "e                       2.0                          1\n",
      "u                       5.0                          3\n",
      "39                      1.0                          1\n",
      "j                       1.0                          1\n",
      "176                     3.0                          1\n",
      "f                       3.0                          2\n",
      "Average number of unusable records per species due to incorrect or other data entry: 5.546762589928058\n",
      "Total Unmatched observations due to incorrect or other code entry: 771.0\n"
     ]
    }
   ],
   "source": [
    "#Convert list of dictionaraies to an organized dataframe\n",
    "df = pd.DataFrame(allunmatch)\n",
    "\n",
    "#Find the sum and count of occurances records for each mismatched code\n",
    "undf = pd.DataFrame(index = df.T.index, columns = ['Unmatched Observations', 'Number of spp with Record'])\n",
    "undf['Unmatched Observations'] = df.T.sum(axis=1)\n",
    "undf['Number of spp with Record'] = df.T.count(axis=1)\n",
    "print(undf[['Unmatched Observations', 'Number of spp with Record']])\n",
    "unobvs = undf['Unmatched Observations'].T.sum(axis=0)\n",
    "\n",
    "#Sum all unmatched occurances for each species and find the average\n",
    "sumspp = df.sum(axis=1)\n",
    "avgun = sumspp.mean(axis=0)\n",
    "\n",
    "print(\"Average number of unusable records per species due to incorrect or other data entry: \" + str(avgun))\n",
    "print(\"Total Unmatched observations due to incorrect or other code entry: \" + str(unobvs)) \n"
   ]
  },
  {
   "cell_type": "code",
   "execution_count": 5,
   "metadata": {},
   "outputs": [
    {
     "name": "stdout",
     "output_type": "stream",
     "text": [
      "GAP_name                                                             evaluation     \n",
      "Allegheny-Cumberland Dry Oak Forest and Woodland - Hardwood          No match            86\n",
      "Allegheny-Cumberland Dry Oak Forest and Woodland - Pine Modifier     No match            78\n",
      "Appalachian Hemlock-Hardwood Forest                                  No match            80\n",
      "Appalachian Shale Barrens                                            No match            33\n",
      "Central Appalachian Alkaline Glade and Woodland                      No match            49\n",
      "Central Appalachian Oak and Pine Forest                              No match            80\n",
      "Central Appalachian Pine-Oak Rocky Woodland                          No match            35\n",
      "                                                                     add_association      8\n",
      "                                                                     valid               35\n",
      "Central Appalachian Riparian - Forest Modifier                       No match            99\n",
      "Central Interior Calcareous Cliff and Talus                          No match            13\n",
      "Central Interior Highlands Calcareous Glade and Barrens              No match            32\n",
      "Central Interior and Appalachian Floodplain Systems                  No match           104\n",
      "Central Interior and Appalachian Riparian Systems                    No match           104\n",
      "Central Interior and Appalachian Shrub-Herbaceous Wetland Systems    No match            35\n",
      "                                                                     add_association     11\n",
      "                                                                     valid               17\n",
      "Central and Southern Appalachian Montane Oak Forest                  No match            74\n",
      "Central and Southern Appalachian Spruce-Fir Forest                   No match            37\n",
      "                                                                     valid                2\n",
      "Cultivated Cropland                                                  No match            78\n",
      "                                                                     add_association      3\n",
      "                                                                     valid                9\n",
      "Developed, High-intensity                                            No match            60\n",
      "                                                                     add_association      7\n",
      "                                                                     valid                3\n",
      "Developed, Low-intensity                                             No match            88\n",
      "Developed, Medium-intensity                                          No match            86\n",
      "Developed, Open Space                                                No match            88\n",
      "Disturbed, Non-specific                                              No match            80\n",
      "Disturbed/Successional - Grass/Forb Regeneration*                    No match            95\n",
      "Disturbed/Successional - Shrub Regeneration                          No match            96\n",
      "Evergreen Plantation or Managed Pine                                 No match            61\n",
      "Harvested Forest - Grass/Forb Regeneration                           No match            93\n",
      "Harvested Forest-Shrub Regeneration                                  No match            87\n",
      "Introduced Upland Vegetation - Annual Grassland                      No match            84\n",
      "Introduced Upland Vegetation - Treed                                 No match            80\n",
      "Managed Tree Plantation                                              No match            71\n",
      "North-Central Appalachian Acidic Cliff and Talus                     No match            13\n",
      "North-Central Appalachian Circumneutral Cliff and Talus              No match            12\n",
      "North-Central Interior Wet Flatwoods                                 No match            84\n",
      "North-Central Interior and Appalachian Rich Swamp                    No match            54\n",
      "Northeastern Interior Dry Oak Forest - Mixed Modifier                No match            74\n",
      "Northeastern Interior Dry Oak Forest - Virginia/Pitch Pine Modifier  No match            63\n",
      "Northeastern Interior Dry Oak Forest-Hardwood Modifier*              No match            75\n",
      "Northeastern Interior Dry-Mesic Oak Forest                           No match            91\n",
      "Open Water (Fresh)                                                   No match            17\n",
      "                                                                     add_association     21\n",
      "                                                                     valid               11\n",
      "Pasture/Hay                                                          No match            37\n",
      "                                                                     add_association     28\n",
      "                                                                     valid               39\n",
      "Quarries, Mines, Gravel Pits and Oil Wells                           No match            40\n",
      "Ruderal forest                                                       No match            28\n",
      "                                                                     add_association     40\n",
      "                                                                     valid               40\n",
      "South-Central Interior Large Floodplain                              No match            96\n",
      "South-Central Interior Large Floodplain - Forest Modifier            No match            99\n",
      "South-Central Interior Mesophytic Forest                             No match            95\n",
      "South-Central Interior Small Stream and Riparian                     No match           100\n",
      "Southern Appalachian Grass and Shrub Bald*                           No match            24\n",
      "Southern Appalachian Low Mountain Pine Forest                        No match            27\n",
      "                                                                     add_association      5\n",
      "                                                                     valid               14\n",
      "Southern Appalachian Montane Cliff                                   No match             9\n",
      "Southern Appalachian Montane Pine Forest and Woodland                No match            58\n",
      "                                                                     valid                2\n",
      "Southern Appalachian Northern Hardwood Forest                        No match            17\n",
      "                                                                     add_association     28\n",
      "                                                                     valid               33\n",
      "Southern Interior Acid Cliff                                         No match            10\n",
      "Southern Piedmont Dry Oak-(Pine) Forest - Hardwood Modifier          No match            81\n",
      "Southern Piedmont Dry Oak-(Pine) Forest - Mixed Modifier*            No match            80\n",
      "Southern Piedmont Dry Oak-(Pine) Forest*                             No match            77\n",
      "Southern Piedmont Mesic Forest                                       No match            17\n",
      "                                                                     add_association     34\n",
      "                                                                     valid               33\n",
      "Southern Ridge and Valley Dry Calcareous Forest                      No match            83\n",
      "Southern Ridge and Valley Dry Calcareous Forest - Pine modifier      No match            78\n",
      "Southern and Central Appalachian Cove Forest                         No match            96\n",
      "Southern and Central Appalachian Oak Forest                          No match            85\n",
      "Southern and Central Appalachian Oak Forest - Xeric                  No match            79\n",
      "Undifferentiated Barren Land                                         No match            12\n",
      "                                                                     add_association     48\n",
      "                                                                     valid                6\n",
      "Name: Times Validated, dtype: int64\n"
     ]
    }
   ],
   "source": [
    "#create table with count of validated systems\n",
    "typedf['evaluation'].fillna(value = 'No match', inplace = True)\n",
    "typedf.set_index(['GAP_name','evaluation'], inplace=True)\n",
    "typedf.insert(5, 'Times Validated', '1', True)\n",
    "typedf= typedf.astype({'Times Validated': 'int32'})\n",
    "valdf = typedf.groupby(['GAP_name','evaluation'])[\"Times Validated\"].count()\n",
    "print(valdf)"
   ]
  },
  {
   "cell_type": "code",
   "execution_count": 6,
   "metadata": {},
   "outputs": [
    {
     "name": "stdout",
     "output_type": "stream",
     "text": [
      "                                Species  detections\n",
      "Unusable              Willow Flycatcher        40.0\n",
      "Supported validation  Willow Flycatcher         3.0\n",
      "Supported addition    Willow Flycatcher         5.0\n",
      "Total detections      Willow Flycatcher        48.0\n",
      "Unusable               White-eyed Vireo       126.0\n",
      "...                                 ...         ...\n",
      "Total detections          Blue Grosbeak        11.0\n",
      "Unusable               American Kestrel        27.0\n",
      "Supported validation   American Kestrel         0.0\n",
      "Supported addition     American Kestrel         6.0\n",
      "Total detections       American Kestrel        33.0\n",
      "\n",
      "[556 rows x 2 columns]\n",
      "                     Species-Habitat Detections                   \n",
      "                                          Count     Average  Total\n",
      "Supported addition                           46   22.215827   3088\n",
      "Supported validation                         63   38.913669   5409\n",
      "Total detections                            106  287.129496  39911\n",
      "Unusable                                    102  226.000000  31414\n"
     ]
    },
    {
     "data": {
      "image/png": "[encoded data removed]",
      "text/plain": [
       "<Figure size 432x288 with 1 Axes>"
      ]
     },
     "metadata": {},
     "output_type": "display_data"
    },
    {
     "data": {
      "image/png": "[encoded data removed]",
      "text/plain": [
       "<Figure size 432x288 with 1 Axes>"
      ]
     },
     "metadata": {
      "needs_background": "light"
     },
     "output_type": "display_data"
    }
   ],
   "source": [
    "#Clean up master tables to create pivot tables\n",
    "mastdf = mastdf.dropna()\n",
    "masteval = masteval.dropna().astype({'GAP_types': 'int32'})\n",
    "print(mastdf)\n",
    "#Create pivot table summarizing the validity of WVBBA habitat detections\n",
    "pivdf = mastdf.pivot_table(index = mastdf.index,\n",
    "                           aggfunc = {'detections' : [ np.mean, sum, lambda x: len(x.unique())]},\n",
    "                           fill_value = 0).sort_index()\n",
    "pivdf.rename(columns={\"detections\" : \"Species-Habitat Detections\", \n",
    "                      \"mean\" : \"Average\", \"sum\" : \"Total\", \"<lambda_0>\" : \"Count\"}, inplace=True) \n",
    "\n",
    "#Display Table and plot pie chart of total detections\n",
    "print(pivdf)\n",
    "plt1 = pivdf.drop(['Total detections']).plot(y=('Species-Habitat Detections',        'Total'), \n",
    "                                             kind='pie',\n",
    "                                             legend=False, \n",
    "                                             title = \"Total Species Detections\",\n",
    "                                             colors=['y', 'g', 'gray'])\n",
    "plt1.set_ylabel(\"\")\n",
    "plt2 = pivdf.drop(['Total detections']).plot.barh(x= None, y=('Species-Habitat Detections',        'Average'), \n",
    "                                                  color=['y', 'g', 'gray'], legend=False, title = \"Average Species Detections\")   "
   ]
  },
  {
   "cell_type": "code",
   "execution_count": 7,
   "metadata": {},
   "outputs": [
    {
     "name": "stdout",
     "output_type": "stream",
     "text": [
      "            GAP Systems Validated by WVBBA                 \n",
      "                                     Count    Average Total\n",
      "Additions                                7   1.676259   233\n",
      "Unvalidated                             47  18.345324  2550\n",
      "Validated                                8   1.755396   244\n"
     ]
    },
    {
     "data": {
      "image/png": "[encoded data removed]",
      "text/plain": [
       "<Figure size 432x288 with 1 Axes>"
      ]
     },
     "metadata": {},
     "output_type": "display_data"
    },
    {
     "data": {
      "image/png": "[encoded data removed]",
      "text/plain": [
       "<Figure size 432x288 with 1 Axes>"
      ]
     },
     "metadata": {
      "needs_background": "light"
     },
     "output_type": "display_data"
    }
   ],
   "source": [
    "#Create pivot table summarizing the proportion of GAP systems validated \n",
    "piveval = masteval.pivot_table(index = masteval.index,\n",
    "                           aggfunc = {'GAP_types' : [np.mean, sum, lambda x: len(x.unique())]},\n",
    "                           fill_value = 0).sort_index()\n",
    "piveval.rename(columns={\"GAP_types\" : \"GAP Systems Validated by WVBBA\", \"mean\" : \"Average\", \n",
    "                        \"sum\" : \"Total\", \"<lambda_0>\" : \"Count\"}, inplace=True)\n",
    "\n",
    "#Display data table and plot tables of the sum of validated GAP associations and the average per species\n",
    "print(piveval)\n",
    "plt3 = piveval.plot(y=('GAP Systems Validated by WVBBA',        'Total'), \n",
    "                                             kind='pie',\n",
    "                                             legend=False, \n",
    "                                             title = \"Total species GAP associations\",\n",
    "                                             colors=['y', 'gray', 'g'])\n",
    "plt3.set_ylabel(\"\")\n",
    "plt4 = piveval.plot.barh(x = None, y=('GAP Systems Validated by WVBBA',        'Average'), \n",
    "                         color=['y', 'gray', 'g'],\n",
    "                         legend=False, title = \"Average species GAP associations\") "
   ]
  },
  {
   "cell_type": "code",
   "execution_count": 8,
   "metadata": {},
   "outputs": [
    {
     "name": "stdout",
     "output_type": "stream",
     "text": [
      "                                                                  GAP_code  GAP_associated  cross_confidence  cross_matches  detections  Times Validated wv_code_fine    wv_name_fine  link_strength support\n",
      "GAP_name                                          evaluation                                                                                                                                                \n",
      "Developed, High-intensity                         No match            1204             0.0               1.0            1.0         1.0                1          18b      Commerical            1.0    high\n",
      "Pasture/Hay                                       add_association     1403             0.0               1.0            1.0         5.0                1          17a         Pasture            1.0    high\n",
      "Open Water (Fresh)                                No match            2102             0.0               1.0            1.0         1.0                1          15c  Pond/reservoir            1.0    high\n",
      "Disturbed/Successional - Shrub Regeneration       No match            8102             1.0               1.0            2.0         7.0                1          16a      Old fields            0.5     med\n",
      "Disturbed/Successional - Grass/Forb Regeneration* No match            8103             0.0               1.0            2.0         7.0                1          16a      Old fields            0.5     med\n",
      "...                                                                    ...             ...               ...            ...         ...              ...          ...             ...            ...     ...\n",
      "Undifferentiated Barren Land                      add_association     3105             0.0               1.0            1.0         3.0                1          16c  Abandoned mine            1.0    high\n",
      "Pasture/Hay                                       add_association     1403             0.0               1.0            1.0         3.0                1          17b             Hay            1.0    high\n",
      "Cultivated Cropland                               No match            1402             0.0               1.0            2.0        20.0                1           17        Farmland            0.5     med\n",
      "NaN                                               No match             NaN             NaN               NaN            NaN         NaN                1          NaN             NaN            NaN     NaN\n",
      "                                                  No match             NaN             NaN               NaN            NaN         NaN                1          NaN             NaN            NaN     NaN\n",
      "\n",
      "[4376 rows x 10 columns]\n"
     ]
    }
   ],
   "source": [
    "print(typedf)"
   ]
  },
  {
   "cell_type": "code",
   "execution_count": null,
   "metadata": {},
   "outputs": [],
   "source": []
  },
  {
   "cell_type": "markdown",
   "metadata": {},
   "source": []
  }
 ],
 "metadata": {
  "kernelspec": {
   "display_name": "Python 3",
   "language": "python",
   "name": "python3"
  },
  "language_info": {
   "codemirror_mode": {
    "name": "ipython",
    "version": 3
   },
   "file_extension": ".py",
   "mimetype": "text/x-python",
   "name": "python",
   "nbconvert_exporter": "python",
   "pygments_lexer": "ipython3",
   "version": "3.6.10"
  }
 },
 "nbformat": 4,
 "nbformat_minor": 4
}
