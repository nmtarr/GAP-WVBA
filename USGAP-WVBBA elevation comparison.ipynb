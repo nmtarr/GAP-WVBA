{
 "cells": [
  {
   "cell_type": "markdown",
   "metadata": {},
   "source": [
    "##  US Gap Analysis Project - WV Breeding Bird Atlas Data Comparison \n",
    "Nathan Tarr and Jessie Jordan\n",
    "USGS NC Cooperative Fish and Wildlife Research Unit\n",
    "North Carolina State University\n",
    "Raleigh, NC\n",
    "\n",
    "## Methods and Data\n",
    "We investigated the agreement between WV Breeding Bird Atlas (2009-2014) and USGS Gap Analysis Project 2001 data on the elevational limits to species occurrence.\n",
    "\n",
    "We compared three things: the elevations where individual birds were recorded by the WVBBA, the maximum and minimum elevations of habitat grid cells as mapped by GAP (2001) for each species, and the elevation parameter values from GAP habitat models.  We obtained WVBBA data from WV biologists who ran that project.  We determined the maximum and minimum elevations of GAP habitat grid cells by summarizing their elevations with the arcpy package (\"map_max\" and \"map_min\" below).  Habitat model parameters were retrieved from ScienceBase items for the models.  \n",
    "\n",
    "The border between GAP's southeastern and northeastern modeling regions passes through WV, so habitat maps within WV could potentially have been produced in part from different sets of parameters.  We therefore used southeastern and northeastern model parameters in our comparisons (\"NE_max\", \"NE_min\", \"SE_max\", and \"SE_min\"), which in some cases, complicated comparisons.\n",
    "\n",
    "To quantify the agreement between data sets, we tallied the number of individuals that the WVBBA recorded above the maximum and below the minimum elevations from habitat maps (\"individuals_over(n)\" and \"individuals_under(n)\"), as well as the differences between maximum and minimum elevations from WVBBA surveys and GAP maps (\"max_diff\" and \"min_diff\").  \n",
    "\n",
    "## Conclusions\n",
    "It was possible to identify improvements the GAP habitat models with data from the WVBBA.  Additionally, merely comparing the GAP data to itself (i.e. model parameters to the output maps) revealed some areas for improvement and previously unidentified processing errors.  The results below identify those specific changes that should be made to models.  However, they also reveal an aspect of the modeling paradigm that limits model quality and iterative improvement.  Using the six, large GAP modeling regions means that models cannot be parameterized or refined locally even when knowledge is available to warrant it. Modelers have to assign parameters that can accomodate all the environments where a species could occur throughout the modeling region, even if the limits of tolerable environments exist along a latitudinal or longitudinal gradients. In the case of elevation, an obsolete parameter within WV may be justified due to suitable environments in ME and any changes made to models for WV will affect habitat predictions from ME to FL, LA, and AR.  Additionally, the habitat associations (e.g., elevational limits) of species may vary across such broad regions.  In order to  incorporate state-level data into model improvements without reducing their specificity, it will be necessary to accomodate smaller and/or customized modeling regions.\n",
    "\n",
    "## Processing and Results"
   ]
  },
  {
   "cell_type": "code",
   "execution_count": 1,
   "metadata": {},
   "outputs": [
    {
     "name": "stdout",
     "output_type": "stream",
     "text": [
      "A sample of values\n",
      "\n",
      "GAP_code                          bcogrx               bcoyex             bhowrx                 brbnux           brevix\n",
      "WVBBA_code                          COGR                 COYE               HOWR                   RBNU             REVI\n",
      "common_name               Common Grackle  Common Yellowthroat         House Wren  Red-breasted Nuthatch   Red-eyed Vireo\n",
      "map_max                             1370                 1482               1480                   1482             1477\n",
      "map_min                               75                   75                 77                     86               77\n",
      "SE_max                              1371                  NaN                NaN                   2500              NaN\n",
      "SE_min                                 0                  NaN                NaN                   1000              NaN\n",
      "NE_max                              1371                  NaN                NaN                   2500              NaN\n",
      "NE_min                                 0                  NaN                NaN                      0              NaN\n",
      "WVBBA_max                           1160                 1320               1280                   1380             1340\n",
      "WVBBA_min                            100                  100                120                    560              140\n",
      "scientific_name       Quiscalus quiscula   Geothlypis trichas  Troglodytes aedon       Sitta canadensis  Vireo olivaceus\n",
      "max_diff                            -210                 -162               -200                   -102             -137\n",
      "min_diff                             -25                  -25                -43                   -474              -63\n",
      "WVBBA_individuals(n)                 841                  734                190                     65             3501\n",
      "individuals_over(n)                    0                    0                  0                      0                0\n",
      "individuals_under(n)                   0                    0                  0                      0                0\n"
     ]
    }
   ],
   "source": [
    "import pandas as pd, repo_functions as fun, numpy as np\n",
    "pd.set_option('display.width', 2000)\n",
    "pd.set_option('display.max_colwidth', 400)\n",
    "pd.set_option('display.max_rows', 400)\n",
    "pd.set_option('display.max_columns', 15)\n",
    "\n",
    "# Elevation summary csv\n",
    "eDF0 = pd.read_csv(fun.resultsDir + \"elevation_summary.csv\", header=0, names=[\"GAP_code\", \"WVBBA_code\", \"common_name\",\n",
    "                                                                              \"map_max\", \"map_min\", \"SE_max\", \"SE_min\", \n",
    "                                                                              \"NE_max\", \"NE_min\", \"WVBBA_max\", \"WVBBA_min\",\n",
    "                                                                              \"max_diff(%)\", \"min_diff(%)\", \"scientific_name\",\n",
    "                                                                              \"max_diff\", \"min_diff\", \"WVBBA_individuals(n)\", \n",
    "                                                                              \"individuals_over(n)\", \"individuals_under(n)\"])\n",
    "print(\"A sample of values\\n\")\n",
    "eDF0.drop([\"min_diff(%)\",\"max_diff(%)\"], axis=1, inplace=True)\n",
    "eDF1 = eDF0.copy()\n",
    "eDF0.set_index(\"GAP_code\", inplace=True)\n",
    "print(eDF0.head().T)"
   ]
  },
  {
   "cell_type": "markdown",
   "metadata": {},
   "source": [
    "A complication existed regarding the elevations of WVBBA survey data that necessitated specifying an allowable difference between elevation values below which values are considered equal.  That was because observers used a point count protocol in which bird detections were attributed to the survey point.  Although the survey location was recorded as a point, the area surveyed was actually a polygon approximating a circle.  Thus, birds could have been detected from within a range of elevations despite being attributed to a point.  \n",
    "\n",
    "The range of elevations surveyed in a point count is determined by the width of the circle that was effectively surveyed and the terrain around the point.  The distance from the observer's location (i.e. the point) at which individuals could have been detected, which ultimately determines the width of the circle, is affected by site characteristics including vegetation structure.  Thus, the elevation ranges assocated with detections varies among points.  If the survey area was large and the terrain steep, then the range of elevations at which birds could have been detected is large.  Without knowing the conditions at each survey location, it is impossible to precisely attribute each record to an elevation, but ignoring this issue would introduce error in our assessment, therefore we approximated an allowable margin of error of 75m for elevation values that we used when comparing WVBBA records to GAP data: values were considered equal when they were within 75m of each other.  We chose 75m because individuals can often be heard from distance of 100m or more in auditory bird surveys and WV, in general, is mountainous."
   ]
  },
  {
   "cell_type": "code",
   "execution_count": 2,
   "metadata": {},
   "outputs": [],
   "source": [
    "# Set an allowable margin of error for elevation (m)\n",
    "elev_error = 75"
   ]
  },
  {
   "cell_type": "markdown",
   "metadata": {},
   "source": [
    "### Which models have innapropriate GAP elevation parameters that should be adjusted for WV?\n",
    "Cases where the elevation parameter should be adjusted can be identified by determining which species were detected in significant frequency at elevations above the maximum or below the minimum elevation limit of the habitat map *and* for which a map elevation extreme equals the corresponding elevation parameter in the model.  Equivalent elevation limits from the maps and models indicate that a model's elevation limits restricted model output (the map).  It is possible for the elevation parameter to differ from the map extremes when other model parameters, such as cover type selections, restrict output to elevations that are higher than the minimum or lower than the maximum.  Defining a \"significant frequency\" of WVBBA occurrences that defy the model parameter is subjective, but we used a value of 1% of total detections.  Additionally, we applied the margin of error discussed above so that at least one detection had to be more than 75m above the GAP maximum or below the minimum in order for frequency of errors to be assessed. "
   ]
  },
  {
   "cell_type": "code",
   "execution_count": 3,
   "metadata": {},
   "outputs": [
    {
     "name": "stdout",
     "output_type": "stream",
     "text": [
      "Maximum elevation needs to be adjusted in the models for these species\n",
      "                     common_name  individuals_over(n)  individuals_over(%)  max_diff  WVBBA_max  map_max  SE_max  NE_max\n",
      "GAP_code                                                                                                                \n",
      "bchspx          Chipping Sparrow                  136            16.229117       387       1300      913   914.0   914.0\n",
      "brbwox    Red-bellied Woodpecker                   26             3.576341       361       1260      899   900.0   900.0\n",
      "bwiflx         Willow Flycatcher                   16            16.494845       371       1220      849   850.0   850.0\n",
      "bororx            Orchard Oriole                   13            10.569106       331        940      609   610.0   610.0\n",
      "bnoflx          Northern Flicker                    8             1.731602       122       1340     1218  1219.0  1219.0\n",
      "bbekix         Belted Kingfisher                    8             9.302326       267       1180      913   914.0   914.0\n",
      "beablx          Eastern Bluebird                    6             1.369863       122       1340     1218  1219.0  1219.0\n",
      "bgbhex          Great Blue Heron                    4             9.302326       371        980      609   610.0   610.0\n",
      "beakix          Eastern Kingbird                    2             1.652893       247       1160      913   914.0   914.0\n"
     ]
    }
   ],
   "source": [
    "# Which species were detected above the maximum elevation from habitat maps?\n",
    "df0 = eDF1[eDF1[\"individuals_over(n)\"] > 0]\n",
    "overMax = df0.filter(items=['GAP_code', 'common_name', 'individuals_over(n)', 'WVBBA_max', 'map_max', 'max_diff', 'SE_max', \n",
    "                            'NE_max', 'WVBBA_individuals(n)'], axis=1)\n",
    " \n",
    "# Omit records with difference greater than the set \"elev_error\".\n",
    "overMax = overMax[overMax['max_diff'] > elev_error]\n",
    "\n",
    "# Filter out species w/ <1% of individuals conflicting with the model\n",
    "overMax['individuals_over(%)'] = 100*(overMax['individuals_over(n)']/overMax['WVBBA_individuals(n)'])\n",
    "overMax.sort_values(by=\"individuals_over(n)\", ascending=False, inplace=True)\n",
    "overMax = overMax[overMax['individuals_over(%)'] > 1]\n",
    "\n",
    "# For which species was a model responsible and needs to be adjusted? If one of the model max's is NULL, then the map output \n",
    "# max wasn't necessarily constrained by it, so exclude it.  \n",
    "overMax2 = overMax.copy().dropna()\n",
    "overMax2.drop([\"WVBBA_individuals(n)\"], axis=1, inplace=True)\n",
    "overMax2.set_index([\"GAP_code\"], inplace=True)\n",
    "print(\"Maximum elevation needs to be adjusted in the models for these species\")\n",
    "print(overMax2.filter([\"common_name\", \"individuals_over(n)\", \"individuals_over(%)\", \"max_diff\", \"WVBBA_max\", \"map_max\", \n",
    "              \"SE_max\", \"NE_max\"], axis=1))"
   ]
  },
  {
   "cell_type": "code",
   "execution_count": 4,
   "metadata": {},
   "outputs": [
    {
     "name": "stdout",
     "output_type": "stream",
     "text": [
      "\n",
      "\n",
      "Minimum elevation needs to be adjusted in the models for these species\n",
      "                common_name  individuals_under(n)  individuals_under(%)  min_diff  WVBBA_min  map_min  SE_min  NE_min\n",
      "GAP_code                                                                                                             \n",
      "bbhvix    Blue-headed Vireo                    24              4.897959        81        220      301   300.0   300.0\n"
     ]
    }
   ],
   "source": [
    "# Which species were detected below min elevation from habitat maps?  Comments from the cell above are analogous here. \n",
    "df1 = eDF1[eDF1[\"individuals_under(n)\"] > 0]\n",
    "overMin = df1.filter(items=['GAP_code', 'common_name', 'individuals_under(n)', 'WVBBA_min', 'map_min', 'min_diff', 'SE_min', \n",
    "                            'NE_min', 'WVBBA_individuals(n)'], axis=1)\n",
    "overMin = overMin[overMin['min_diff'] > elev_error]\n",
    "overMin['individuals_under(%)'] = 100*(overMin['individuals_under(n)']/overMin['WVBBA_individuals(n)'])\n",
    "overMin.sort_values(by=\"individuals_under(n)\", ascending=False, inplace=True)\n",
    "overMin = overMin[overMin['individuals_under(%)'] > 1]\n",
    "overMin2 = overMin.copy().dropna()\n",
    "overMin2.set_index([\"GAP_code\"], inplace=True)\n",
    "print(\"\\n\\nMinimum elevation needs to be adjusted in the models for these species\")\n",
    "print(overMin2.filter([\"common_name\", \"individuals_under(n)\", \"individuals_under(%)\", \"min_diff\", \"WVBBA_min\", \"map_min\", \n",
    "                       \"SE_min\", \"NE_min\"], axis=1))"
   ]
  },
  {
   "cell_type": "markdown",
   "metadata": {},
   "source": [
    "### For which species did something other than an elevation parameter restrict output?\n",
    "Significant numbers of WVBBA detections above the GAP map maximum elevation or below the minimum indicated that something other than the model parameter restricted the habitat map to erroneously restricted elevations in cases where the map maximum or minimum did not equal the elevation limits in the models."
   ]
  },
  {
   "cell_type": "code",
   "execution_count": 8,
   "metadata": {},
   "outputs": [
    {
     "name": "stdout",
     "output_type": "stream",
     "text": [
      "\n",
      "\n",
      "Something other than a maximum elevation parameter could be erroneously restricting map output to low elevations.\n",
      "             common_name  individuals_over(n)  individuals_over(%)  max_diff  WVBBA_max  map_max  SE_max  NE_max\n",
      "GAP_code                                                                                                        \n",
      "beaphx    Eastern Phoebe                  202            38.403042       714       1160      446     NaN     NaN\n"
     ]
    }
   ],
   "source": [
    "overMax3 = (overMax[overMax['GAP_code'].isin(overMax2.index) == False]\n",
    "            .drop([\"WVBBA_individuals(n)\"], axis=1)\n",
    "            .set_index(\"GAP_code\"))\n",
    "print(\"\\n\\nSomething other than a maximum elevation parameter could be erroneously restricting map output to low elevations.\")\n",
    "print(overMax3.filter([\"common_name\", \"individuals_over(n)\", \"individuals_over(%)\", \"max_diff\", \"WVBBA_max\", \"map_max\", \n",
    "                       \"SE_max\", \"NE_max\"], axis=1))"
   ]
  },
  {
   "cell_type": "code",
   "execution_count": 9,
   "metadata": {},
   "outputs": [
    {
     "name": "stdout",
     "output_type": "stream",
     "text": [
      "\n",
      "\n",
      "Something other than a minimum elevation parameter could be erroneously restricting map output to high elevations.\n",
      "              common_name  individuals_under(n)  individuals_under(%)  min_diff  WVBBA_min  map_min  SE_min  NE_min\n",
      "GAP_code                                                                                                           \n",
      "bdejux    Dark-eyed Junco                    12               4.83871       141        560      701   700.0     NaN\n"
     ]
    }
   ],
   "source": [
    "overMin3 = (overMin[overMin['GAP_code'].isin(overMin2.index) == False]\n",
    "            .drop([\"WVBBA_individuals(n)\"], axis=1)\n",
    "            .set_index(\"GAP_code\"))\n",
    "print(\"\\n\\nSomething other than a minimum elevation parameter could be erroneously restricting map output to high elevations.\")\n",
    "print(overMin3.filter([\"common_name\", \"individuals_under(n)\", \"individuals_under(%)\", \"min_diff\", \"WVBBA_min\", \"map_min\", \n",
    "                       \"SE_min\", \"NE_min\"], axis=1))"
   ]
  },
  {
   "cell_type": "markdown",
   "metadata": {},
   "source": [
    "### For which species is the elevation parameter obsolete in WV?\n",
    "Comparing the GAP habitat models to the habitat maps reveals cases where the elevation model parameters are not affecting the model output within WV."
   ]
  },
  {
   "cell_type": "code",
   "execution_count": 10,
   "metadata": {},
   "outputs": [
    {
     "name": "stdout",
     "output_type": "stream",
     "text": [
      "These species have obsolete maximum elevations for WV\n",
      "                       common_name  map_max  SE_max  NE_max\n",
      "GAP_code                                                   \n",
      "brbnux       Red-breasted Nuthatch     1482  2500.0  2500.0\n",
      "bcachx          Carolina Chickadee     1476  1850.0  1850.0\n",
      "bgckix      Golden-crowned Kinglet     1482  2500.0  3450.0\n",
      "bybsax    Yellow-bellied Sapsucker     1481  2500.0  2000.0\n",
      "bbrthx              Brown Thrasher     1475  1676.0  1676.0\n",
      "btutix             Tufted Titmouse     1482  1524.0  1524.0\n",
      "bwavix              Warbling Vireo     1476  3200.0  3200.0\n",
      "bwiwrx                 Winter Wren     1482  2500.0  2500.0\n",
      "bbadox                  Barred Owl     1477  1500.0  1500.0\n",
      "bbobox                    Bobolink     1178  2500.0  2500.0\n",
      "brbgrx      Rose-breasted Grosbeak     1482  2500.0  2500.0\n",
      "bbhvix           Blue-headed Vireo     1482  2500.0  2500.0\n",
      "bwbnux     White-breasted Nuthatch     1481  1524.0  1524.0\n",
      "bdejux             Dark-eyed Junco     1482  2500.0  2040.0\n",
      "\n",
      "\n",
      "These species have obsolete minimum elevations for WV\n",
      "                       common_name  map_min  SE_min  NE_min\n",
      "GAP_code                                                   \n",
      "bcogrx              Common Grackle       75     0.0     0.0\n",
      "bwothx                 Wood Thrush       75     0.0     0.0\n",
      "bcachx          Carolina Chickadee       75     0.0     0.0\n",
      "bcarwx               Carolina Wren       75     0.0     0.0\n",
      "bororx              Orchard Oriole       64     0.0     0.0\n",
      "bprawx             Prairie Warbler       75     0.0     0.0\n",
      "brbwox      Red-bellied Woodpecker       75     0.0     0.0\n",
      "bbrthx              Brown Thrasher       81     0.0     0.0\n",
      "beablx            Eastern Bluebird       64   -47.0   -47.0\n",
      "btutix             Tufted Titmouse       64   -47.0   -47.0\n",
      "bbadox                  Barred Owl       86   -47.0   -47.0\n",
      "bbobox                    Bobolink       89    18.0    18.0\n",
      "bgcflx    Great Crested Flycatcher       75     0.0     0.0\n"
     ]
    }
   ],
   "source": [
    "# For which species is maximum map elevation less than the maximum elevation parameter\n",
    "misMax = eDF0.copy().filter(items=['GAP_code', 'common_name', 'map_max', 'SE_max', 'NE_max'], axis=1).dropna()\n",
    "misMax2 = misMax[(misMax['map_max'] + 1 < misMax['SE_max']) & (misMax['map_max'] + 1 < misMax['NE_max'])]\n",
    "print(\"These species have obsolete maximum elevations for WV\")\n",
    "print(misMax2)\n",
    "\n",
    "# For which species is minimum map elevation less than the minimum elevation parameter\n",
    "misMin = eDF0.copy().filter(items=['GAP_code', 'common_name', 'map_min', 'SE_min', 'NE_min'], axis=1).dropna()\n",
    "misMin2 = misMin[(misMin['map_min'] - 1 > misMin['SE_min']) & (misMin['map_min'] - 1 > misMin['NE_min'])]\n",
    "print(\"\\n\\nThese species have obsolete minimum elevations for WV\")\n",
    "print(misMin2)"
   ]
  }
 ],
 "metadata": {
  "kernelspec": {
   "display_name": "Python 3",
   "language": "python",
   "name": "python3"
  },
  "language_info": {
   "codemirror_mode": {
    "name": "ipython",
    "version": 3
   },
   "file_extension": ".py",
   "mimetype": "text/x-python",
   "name": "python",
   "nbconvert_exporter": "python",
   "pygments_lexer": "ipython3",
   "version": "3.6.10"
  }
 },
 "nbformat": 4,
 "nbformat_minor": 4
}
